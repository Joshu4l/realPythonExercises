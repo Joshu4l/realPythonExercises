{
 "cells": [
  {
   "cell_type": "raw",
   "source": [
    "CHALLENGE 2: WAX POETIC\n",
    "\n",
    "\"In this challenge you'll write a program that generates poetry.\n",
    "\n",
    "Create 5 lists for different word types:\n",
    "\n",
    "\n",
    "1. NOUNS: [\"fossil\", \"horse\", \"aardvark\", \"judge\", \"chef\", \"mango\", \"extrovert\", \"gorilla\"]\n",
    "\n",
    "2. VERBS: [\"kicks\", \"jingles\", \"bounces\", \"slurps\", \"meows\", \"explodes\", \"curdles\"]\n",
    "\n",
    "3. ADJECTIVES [\"furry\", \"balding\", \"incredulous\", \"fragrant\", \"exuberant\", \"glistening\"]\n",
    "\n",
    "4. PREPOSITIONS [\"against\", \"after\", \"into\", \"beneath\", \"upon\", \"for\", \"in\", \"like\", \"over\", \"within\"]\n",
    "\n",
    "5. ADVERBS [\"curiously\", \"extravagantly\", \"tantalizingly\", \"furiously\", \"sensuously\"]\n",
    "\n",
    "\n",
    "Randomly select the following number of elements from each list:\n",
    "\n",
    "- three nouns\n",
    "- three verbs\n",
    "- three adjectives\n",
    "- two prepositions\n",
    "- one adverb\n",
    "\n",
    "You can do this with the 'choice()' function from pythons 'random' module.\n",
    "It takes a list as an input and returns a randomly selected element from it.\n",
    "\n",
    "Using the randomly selected words, generate and display a poem with the following structure:\n",
    "\n",
    "{A/An} {adj1} {noun1} {verb1} {prep1} the {adj2}{noun2}\n",
    "{adverb1}, the {noun1} {verb2}\n",
    "the {noun2} {verb3} {prep2} a {adj3} {noun3}\n",
    "\n",
    "Each time your program runs, it should generate a new poem. Have fun :)\n",
    "\"\n",
    "\n"
   ],
   "metadata": {
    "collapsed": false,
    "pycharm": {
     "name": "#%% raw\n"
    }
   }
  },
  {
   "cell_type": "code",
   "execution_count": null,
   "outputs": [],
   "source": [
    "# Setting up the necessary lists\n",
    "nouns = [\"fossil\", \"horse\", \"aardvark\", \"judge\", \"chef\", \"mango\", \"extrovert\", \"gorilla\"]\n",
    "verbs = [\"kicks\", \"jingles\", \"bounces\", \"slurps\", \"meows\", \"explodes\", \"curdles\"]\n",
    "adjectives = [\"furry\", \"balding\", \"incredulous\", \"fragrant\", \"exuberant\", \"glistening\"]\n",
    "prepositions = [\"against\", \"after\", \"into\", \"beneath\", \"upon\", \"for\", \"in\", \"like\", \"over\", \"within\"]\n",
    "adverbs = [\"curiously\", \"extravagantly\", \"tantalizingly\", \"furiously\", \"sensuously\"]\n",
    "\n",
    "\n"
   ],
   "metadata": {
    "collapsed": false,
    "pycharm": {
     "name": "#%%\n",
     "is_executing": true
    }
   }
  },
  {
   "cell_type": "code",
   "execution_count": null,
   "outputs": [],
   "source": [
    "# Importing the random module's choice() function\n",
    "from random import choice\n",
    "\n",
    "# Create a string to condition my articles by\n",
    "vocals = \"aeiou\""
   ],
   "metadata": {
    "collapsed": false,
    "pycharm": {
     "name": "#%%\n"
    }
   }
  },
  {
   "cell_type": "code",
   "execution_count": 19,
   "outputs": [
    {
     "name": "stdout",
     "output_type": "stream",
     "text": [
      "\n",
      "A fragrant extrovert jingles after the incredulous aardvark\n",
      "sensuously, the extrovert explodes\n",
      "the aardvark curdles for a glistening gorilla.\n"
     ]
    }
   ],
   "source": [
    "# Defining a function that creates the poem\n",
    "def create_random_poem():\n",
    "    \"\"\"selects three random elements from a list\"\"\"\n",
    "\n",
    "    # proceed every inner list three times\n",
    "    n1 = choice(nouns)\n",
    "    n2 = choice(nouns)\n",
    "    n3 = choice(nouns)\n",
    "\n",
    "    # Make sure that all the nouns are different\n",
    "    while n2 == n1:\n",
    "        n2 = choice(nouns)\n",
    "    while n3 == n1 or n3 == n2:\n",
    "        n3 = choice(nouns)\n",
    "\n",
    "\n",
    "    v1 = choice(verbs)\n",
    "    v2 = choice(verbs)\n",
    "    v3 = choice(verbs)\n",
    "\n",
    "    # Make sure that all the verbs are different\n",
    "    while v2 == v1:\n",
    "        v2 = choice(verbs)\n",
    "    while v3 == v1 or v3 == v2:\n",
    "        v3 = choice(verbs)\n",
    "\n",
    "\n",
    "    adj1 = choice(adjectives)\n",
    "    adj2 = choice(adjectives)\n",
    "    adj3 = choice(adjectives)\n",
    "\n",
    "    # Make sure that all the adjectives are different\n",
    "    while adj2 == adj1:\n",
    "        adj2 = choice(adjectives)\n",
    "    while adj3 == adj1 or adj3 == adj2:\n",
    "        adj3 = choice(adjectives)\n",
    "\n",
    "\n",
    "    prep1 = choice(prepositions)\n",
    "    prep2 = choice(prepositions)\n",
    "    prep3 = choice(prepositions)\n",
    "\n",
    "    # Make sure that all the prepositions are different\n",
    "    while prep2 == prep1:\n",
    "        prep2 = choice(prepositions)\n",
    "    while prep3 == prep1 or prep3 == prep2:\n",
    "        prep3 = choice(prepositions)\n",
    "\n",
    "\n",
    "    adv1 = choice(adverbs)\n",
    "    adv2 = choice(adverbs)\n",
    "    adv3 = choice(adverbs)\n",
    "\n",
    "    # Make sure that all the adverbs are different\n",
    "    while adv2 == adv1:\n",
    "        adv2 = choice(adverbs)\n",
    "    while adv3 == adv1 or adv3 == adv2:\n",
    "        adv3 = choice(adverbs)\n",
    "\n",
    "\n",
    "    # Define how the first article will be pronounced\n",
    "    if adj1[0] in vocals:\n",
    "        article1 = \"An\"\n",
    "    else:\n",
    "        article1 = \"A\"\n",
    "\n",
    "    # Define how the second article will be pronounced\n",
    "    if adj3[0] in vocals:\n",
    "        article2 = \"an\"\n",
    "    else:\n",
    "        article2 = \"a\"\n",
    "\n",
    "    # create a new content-variable for all the selected words\n",
    "    res = f\"\"\"\n",
    "{article1} {adj1} {n1} {v1} {prep1} the {adj2} {n2}\n",
    "{adv1}, the {n1} {v2}\n",
    "the {n2} {v3} {prep2} {article2} {adj3} {n3}.\"\"\"\n",
    "\n",
    "    return res"
   ],
   "metadata": {
    "collapsed": false,
    "pycharm": {
     "name": "#%%\n"
    }
   }
  },
  {
   "cell_type": "code",
   "execution_count": 20,
   "outputs": [
    {
     "name": "stdout",
     "output_type": "stream",
     "text": [
      "\n",
      "An incredulous extrovert kicks beneath the exuberant gorilla\n",
      "furiously, the extrovert meows\n",
      "the gorilla curdles for a fragrant fossil.\n"
     ]
    }
   ],
   "source": [
    "# Assigning the function-call to a new variable\n",
    "poem = create_random_poem()\n",
    "\n",
    "# print the poem\n",
    "print(poem)\n"
   ],
   "metadata": {
    "collapsed": false,
    "pycharm": {
     "name": "#%%\n"
    }
   }
  }
 ],
 "metadata": {
  "kernelspec": {
   "name": "pycharm-a215cbb4",
   "language": "python",
   "display_name": "PyCharm (pythonProject_realPythonExercises)"
  },
  "language_info": {
   "codemirror_mode": {
    "name": "ipython",
    "version": 2
   },
   "file_extension": ".py",
   "mimetype": "text/x-python",
   "name": "python",
   "nbconvert_exporter": "python",
   "pygments_lexer": "ipython2",
   "version": "2.7.6"
  }
 },
 "nbformat": 4,
 "nbformat_minor": 0
}