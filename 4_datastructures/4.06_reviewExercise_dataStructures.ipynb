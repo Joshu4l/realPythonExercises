{
 "cells": [
  {
   "cell_type": "raw",
   "source": [
    "REVIEW EXERCISES ON: TUPLES, LISTS AND THEIR RESPECTIVE METHODS\n"
   ],
   "metadata": {
    "collapsed": false
   }
  },
  {
   "cell_type": "raw",
   "source": [
    "1. \"Create a tuple called 'data' with two values. The first value should be the tuple (1, 2),\n",
    "    and the second value should be the tuple (3, 4).\""
   ],
   "metadata": {
    "collapsed": false
   }
  },
  {
   "cell_type": "code",
   "execution_count": 1,
   "outputs": [
    {
     "name": "stdout",
     "output_type": "stream",
     "text": [
      "((1, 2), (3, 4))\n"
     ]
    }
   ],
   "source": [
    "data = ((1, 2), (3, 4))\n",
    "print(data)\n",
    "\n"
   ],
   "metadata": {
    "collapsed": false,
    "pycharm": {
     "name": "#%%\n"
    }
   }
  },
  {
   "cell_type": "raw",
   "source": [
    "2. \"Write a for loop that loops over 'data' and prints the sum of each nested couple.\"\n",
    "    The output should look like this:\"\n",
    "    Row 1 sum: 3\n",
    "    Row 2 sum: 7"
   ],
   "metadata": {
    "collapsed": false
   }
  },
  {
   "cell_type": "code",
   "execution_count": 22,
   "outputs": [
    {
     "name": "stdout",
     "output_type": "stream",
     "text": [
      "Row 0 sum = 3\n",
      "Row 1 sum = 7\n"
     ]
    }
   ],
   "source": [
    "for row in range(len(data)):\n",
    "    print(f\"Row {row} sum = { data[row][0] + data[row][1] }\")\n",
    "\n"
   ],
   "metadata": {
    "collapsed": false,
    "pycharm": {
     "name": "#%%\n"
    }
   }
  },
  {
   "cell_type": "raw",
   "source": [
    "3. \"Create the list [4, 3, 2, 1] by string splitting and assign it to the variable 'numbers'. \""
   ],
   "metadata": {
    "collapsed": false
   }
  },
  {
   "cell_type": "code",
   "execution_count": 24,
   "outputs": [
    {
     "name": "stdout",
     "output_type": "stream",
     "text": [
      "[4, 3, 2, 1]\n"
     ]
    }
   ],
   "source": [
    "numbers_strings = \"4, 3, 2, 1\"\n",
    "numbers = numbers_strings.split(\", \")\n",
    "\n",
    "numbers = [int(number) for number in numbers]\n",
    "print(numbers)\n",
    "\n"
   ],
   "metadata": {
    "collapsed": false,
    "pycharm": {
     "name": "#%%\n"
    }
   }
  },
  {
   "cell_type": "raw",
   "source": [
    "4. \"Create a copy of the 'numbers' list using the [:] slice notation.\""
   ],
   "metadata": {
    "collapsed": false
   }
  },
  {
   "cell_type": "code",
   "execution_count": 25,
   "outputs": [
    {
     "name": "stdout",
     "output_type": "stream",
     "text": [
      "[4, 3, 2, 1]\n"
     ]
    }
   ],
   "source": [
    "numbers_copy = numbers[:]\n",
    "print(numbers_copy)\n",
    "\n",
    "\n"
   ],
   "metadata": {
    "collapsed": false,
    "pycharm": {
     "name": "#%%\n"
    }
   }
  },
  {
   "cell_type": "raw",
   "source": [
    "5. \"Sort the 'numbers' list in numerical order using .sort()\""
   ],
   "metadata": {
    "collapsed": false
   }
  },
  {
   "cell_type": "code",
   "execution_count": 28,
   "outputs": [
    {
     "name": "stdout",
     "output_type": "stream",
     "text": [
      "unsorted: [4, 3, 2, 1]\n",
      "sorted: [1, 2, 3, 4]\n"
     ]
    }
   ],
   "source": [
    "numbers = [4, 3, 2, 1]\n",
    "print(f\"unsorted: {numbers}\")\n",
    "\n",
    "numbers.sort()\n",
    "print(f\"sorted: {numbers}\")\n"
   ],
   "metadata": {
    "collapsed": false,
    "pycharm": {
     "name": "#%%\n"
    }
   }
  }
 ],
 "metadata": {
  "kernelspec": {
   "name": "pycharm-a215cbb4",
   "language": "python",
   "display_name": "PyCharm (pythonProject_realPythonExercises)"
  },
  "language_info": {
   "codemirror_mode": {
    "name": "ipython",
    "version": 2
   },
   "file_extension": ".py",
   "mimetype": "text/x-python",
   "name": "python",
   "nbconvert_exporter": "python",
   "pygments_lexer": "ipython2",
   "version": "2.7.6"
  }
 },
 "nbformat": 4,
 "nbformat_minor": 0
}