{
 "cells": [
  {
   "cell_type": "raw",
   "source": [
    "REVIEW EXERCISES ON: DICTIONARIES AND THEIR RESPECTIVE METHODS\n"
   ],
   "metadata": {
    "collapsed": false
   }
  },
  {
   "cell_type": "raw",
   "source": [
    "1. \"Create an empty dictionary named 'captains'.\""
   ],
   "metadata": {
    "collapsed": false,
    "pycharm": {
     "name": "#%% raw\n"
    }
   }
  },
  {
   "cell_type": "code",
   "execution_count": 3,
   "outputs": [],
   "source": [
    "captains = {\n",
    "}\n"
   ],
   "metadata": {
    "collapsed": false,
    "pycharm": {
     "name": "#%%\n"
    }
   }
  },
  {
   "cell_type": "markdown",
   "source": [
    "2. Using square bracket notation, enter the following data into the dictionary\n",
    "   one item at a time:\n",
    "\n",
    "   'Enterprise': 'Picard'\n",
    "   'Voyager': 'Janeway'\n",
    "   'Defiant': 'Sisko'\n"
   ],
   "metadata": {
    "collapsed": false,
    "pycharm": {
     "name": "#%% md\n"
    }
   }
  },
  {
   "cell_type": "code",
   "execution_count": 4,
   "outputs": [
    {
     "name": "stdout",
     "output_type": "stream",
     "text": [
      "{'Enterprise': 'Picard', 'Voyager': 'Janeway', 'Defiant': 'Sisko'}\n"
     ]
    }
   ],
   "source": [
    "captains['Enterprise'] = 'Picard'\n",
    "captains['Voyager'] = 'Janeway'\n",
    "captains['Defiant'] = 'Sisko'\n",
    "\n",
    "print(captains)\n"
   ],
   "metadata": {
    "collapsed": false,
    "pycharm": {
     "name": "#%%\n"
    }
   }
  },
  {
   "cell_type": "markdown",
   "source": [
    "3. Write two if-statements that check if \"Enterprise\" and \"Discovery\" exist as keys in\n",
    "   the dictionary. Set their values to \"unknown\" if the key does not exist."
   ],
   "metadata": {
    "collapsed": false,
    "pycharm": {
     "name": "#%% md\n"
    }
   }
  },
  {
   "cell_type": "code",
   "execution_count": 15,
   "outputs": [
    {
     "name": "stdout",
     "output_type": "stream",
     "text": [
      "'Enterprise' already exists in the dictionary. :)\n",
      "'Discovery' already exists in the dictionary. :)\n",
      "{'Enterprise': 'Picard', 'Voyager': 'Janeway', 'Defiant': 'Sisko', 'Discovery': 'unknown'}\n"
     ]
    }
   ],
   "source": [
    "search_key1 = 'Enterprise'\n",
    "if search_key1 in captains:\n",
    "    print(f\"\"\"'{search_key1}' already exists in the dictionary. :)\"\"\")\n",
    "else:\n",
    "    captains[search_key1] = \"unknown\"\n",
    "    print(f\"\"\"{search_key1} was added, but with unknown value\"\"\")\n",
    "\n",
    "\n",
    "search_key2 = 'Discovery'\n",
    "if search_key2 in captains:\n",
    "    print(f\"\"\"'{search_key2}' already exists in the dictionary. :)\"\"\")\n",
    "else:\n",
    "    captains[search_key2] = \"unknown\"\n",
    "    print(f\"\"\"{search_key2} was added, but with unknown value\"\"\")\n",
    "\n",
    "print(captains)\n",
    "\n",
    "\n"
   ],
   "metadata": {
    "collapsed": false,
    "pycharm": {
     "name": "#%%\n"
    }
   }
  },
  {
   "cell_type": "markdown",
   "source": [
    "4. Write a for-loop to display the ship and captain names contained in the dictionary.\n",
    "   For example, the output should look something like this:\n",
    "   \"The Enterprise is captained by Picard\""
   ],
   "metadata": {
    "collapsed": false,
    "pycharm": {
     "name": "#%% md\n"
    }
   }
  },
  {
   "cell_type": "code",
   "execution_count": 10,
   "outputs": [
    {
     "name": "stdout",
     "output_type": "stream",
     "text": [
      "The Enterprise is captained by Picard\n",
      "The Voyager is captained by Janeway\n",
      "The Defiant is captained by Sisko\n",
      "The Discovery is captained by unknown\n"
     ]
    }
   ],
   "source": [
    "for key, value in captains.items():\n",
    "    print(f\"\"\"The {key} is captained by {value}\"\"\")\n"
   ],
   "metadata": {
    "collapsed": false,
    "pycharm": {
     "name": "#%%\n"
    }
   }
  },
  {
   "cell_type": "markdown",
   "source": [
    "5. Delete \"Discovery from the dictionary."
   ],
   "metadata": {
    "collapsed": false,
    "pycharm": {
     "name": "#%% md\n"
    }
   }
  },
  {
   "cell_type": "code",
   "execution_count": 16,
   "outputs": [
    {
     "name": "stdout",
     "output_type": "stream",
     "text": [
      "{'Enterprise': 'Picard', 'Voyager': 'Janeway', 'Defiant': 'Sisko'}\n"
     ]
    }
   ],
   "source": [
    "del captains['Discovery']\n",
    "print(captains)\n",
    "\n",
    "\n",
    "\n",
    "\n",
    "\n"
   ],
   "metadata": {
    "collapsed": false,
    "pycharm": {
     "name": "#%%\n"
    }
   }
  }
 ],
 "metadata": {
  "kernelspec": {
   "name": "pycharm-a215cbb4",
   "language": "python",
   "display_name": "PyCharm (pythonProject_realPythonExercises)"
  },
  "language_info": {
   "codemirror_mode": {
    "name": "ipython",
    "version": 2
   },
   "file_extension": ".py",
   "mimetype": "text/x-python",
   "name": "python",
   "nbconvert_exporter": "python",
   "pygments_lexer": "ipython2",
   "version": "2.7.6"
  }
 },
 "nbformat": 4,
 "nbformat_minor": 0
}