{
 "cells": [
  {
   "cell_type": "raw",
   "source": [
    "# REVIEW EXERCISE ON EXTRACTING MULTIPLE PAGES FROM AN EXISTING PDF DOCUMENT AND THEN SAVE THAT EXTRACT IN A NEW FILE\n",
    "\n",
    "1. Revisit the 'Pride_and_Prejudice.pdf' file that is located in our 'practice_files' directory."
   ],
   "metadata": {
    "collapsed": false,
    "pycharm": {
     "name": "#%% raw\n"
    }
   }
  },
  {
   "cell_type": "code",
   "execution_count": 38,
   "outputs": [],
   "source": [
    "# Necessary lib import for setting up the file path of our pdf\n",
    "import pathlib\n",
    "\n",
    "pdf_source_path = pathlib.Path.cwd() / \"practice_files\" / \"Pride_and_Prejudice.pdf\"\n",
    "\n"
   ],
   "metadata": {
    "collapsed": false,
    "pycharm": {
     "name": "#%%\n"
    }
   }
  },
  {
   "cell_type": "raw",
   "source": [
    "\n",
    "2. Read in the the document and instantiate a <PdfFileReader> object from it"
   ],
   "metadata": {
    "collapsed": false,
    "pycharm": {
     "name": "#%% raw\n"
    }
   }
  },
  {
   "cell_type": "code",
   "execution_count": 39,
   "outputs": [],
   "source": [
    "# Necessary import from the PyPDF2 module in order to make use of the <PdfFileReader> class\n",
    "from PyPDF2 import PdfFileReader\n",
    "pdf_file_reader = PdfFileReader(str(pdf_source_path))  # DON'T FORGET to pass in pathlib objects AS STRINGS\n",
    "\n"
   ],
   "metadata": {
    "collapsed": false,
    "pycharm": {
     "name": "#%%\n"
    }
   }
  },
  {
   "cell_type": "raw",
   "source": [
    "\n",
    "3. Create a new pdf document and paste the chapter you extracted from the 'Pride_and_Prejudice' file"
   ],
   "metadata": {
    "collapsed": false,
    "pycharm": {
     "name": "#%% raw\n"
    }
   }
  },
  {
   "cell_type": "code",
   "execution_count": 40,
   "outputs": [
    {
     "name": "stdout",
     "output_type": "stream",
     "text": [
      "number of pages about to be copied: 3\n"
     ]
    }
   ],
   "source": [
    "# Necessary import from the PyPDF2 module in order to make use of the <PdfFileWriter> class\n",
    "from PyPDF2 import PdfFileWriter\n",
    "\n",
    "\n",
    "# 1ST STEP:  Actually instantiate a <PdfFileWriter> object\n",
    "pdf_file_writer = PdfFileWriter()  # no parameters needed!\n",
    "\n",
    "\n",
    "# 2ND STEP:  Actually add several pages to the <PdfFileWriter> object\n",
    "for i in pdf_file_reader.pages[1:4]:  # note that the '.pages' attribute accepts slice notation - super useful!\n",
    "\n",
    "    pdf_file_writer.addPage(i)  # tell the file writer object what it even should consist of\n",
    "    # in this case tell the file WRITER object, that it shall use a range of pages defined by our file READER object\n",
    "print(f\"number of pages about to be copied: {pdf_file_writer.getNumPages()}\")\n",
    "\n",
    "\n",
    "# 3RD STEP:  define the new location, to which the <PdfFileWriter> object shall paste its contents\n",
    "# and pass the that result location to the <PdfFileWriter>'s  '.write()'-method\n",
    "pdf_result_path = pathlib.Path.cwd() / \"practice_files\" / \"Pride_and_Prejudice_chapter1.pdf\"\n",
    "pdf_result_path.touch(exist_ok=True)\n",
    "with pdf_result_path.open(mode=\"wb\") as pdf_result:  # no encoding needed when dealing acting in binary mode\n",
    "    pdf_file_writer.write(pdf_result)  # tell the reader in what location its stored contents shall land\n",
    "\n"
   ],
   "metadata": {
    "collapsed": false,
    "pycharm": {
     "name": "#%%\n"
    }
   }
  },
  {
   "cell_type": "code",
   "execution_count": 41,
   "outputs": [
    {
     "name": "stdout",
     "output_type": "stream",
     "text": [
      "3 pages were copied from 'Pride_and_Prejudice.pdf' to 'Pride_and_Prejudice_chapter1.pdf'. \n"
     ]
    }
   ],
   "source": [
    "print(f\"{pdf_file_writer.getNumPages()} pages were copied from '{pdf_source_path.name}' to '{pdf_result_path.name}'. \")"
   ],
   "metadata": {
    "collapsed": false,
    "pycharm": {
     "name": "#%%\n"
    }
   }
  },
  {
   "cell_type": "raw",
   "source": [],
   "metadata": {
    "collapsed": false,
    "pycharm": {
     "name": "#%% raw\n"
    }
   }
  },
  {
   "cell_type": "raw",
   "metadata": {
    "collapsed": true,
    "pycharm": {
     "name": "#%% raw\n"
    }
   },
   "source": []
  }
 ],
 "metadata": {
  "kernelspec": {
   "display_name": "Python 3",
   "language": "python",
   "name": "python3"
  },
  "language_info": {
   "codemirror_mode": {
    "name": "ipython",
    "version": 2
   },
   "file_extension": ".py",
   "mimetype": "text/x-python",
   "name": "python",
   "nbconvert_exporter": "python",
   "pygments_lexer": "ipython2",
   "version": "2.7.6"
  }
 },
 "nbformat": 4,
 "nbformat_minor": 0
}