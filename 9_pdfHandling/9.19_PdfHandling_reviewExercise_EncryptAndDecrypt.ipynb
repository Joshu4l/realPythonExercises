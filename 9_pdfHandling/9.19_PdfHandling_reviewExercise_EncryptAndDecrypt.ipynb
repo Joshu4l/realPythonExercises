{
 "cells": [
  {
   "cell_type": "raw",
   "metadata": {
    "collapsed": true,
    "pycharm": {
     "name": "#%% raw\n"
    }
   },
   "source": [
    "REVIEW EXERCISE ON ENCRYPTING AND DECRYPTING PDF FILES\n",
    "\n",
    "1.  Your 'practice_files' folder contains a PDF file called 'top_secret.pdf'\n",
    "    Using the 'PdfFileWriter.encrypt()' method, go ahead and encrypt the file with the user password \"Unguessable\"\n",
    "    Save the encrypted file to your home directory wieht the filename 'top_secret_encrypted.pdf'.\n"
   ]
  },
  {
   "cell_type": "code",
   "execution_count": 1,
   "outputs": [
    {
     "name": "stdout",
     "output_type": "stream",
     "text": [
      "Done. File 'top_secret.pdf' has been encrypted, now saved under the name 'top_secret_encrypted.pdf' \n",
      "\n"
     ]
    }
   ],
   "source": [
    "# Do the necessary import\n",
    "import pathlib\n",
    "\n",
    "# Set up a filepath object for our directory, for the file we want to work with, as well as for the file in which we're going to store our encryption result\n",
    "target_dir = pathlib.Path.cwd() / 'practice_files'\n",
    "filepath = target_dir / 'top_secret.pdf'\n",
    "resultpath = target_dir / 'top_secret_encrypted.pdf'\n",
    "resultpath.touch(exist_ok=True)\n",
    "\n",
    "\n",
    "# Do the necessary import\n",
    "import PyPDF2\n",
    "\n",
    "# Set up a <PdfFileReader> for reading in our filepath\n",
    "fr = PyPDF2.PdfFileReader(str(filepath))\n",
    "# Set up a <PdfFileWriter> for storing the same contents that our <PdfFileReader> currently has\n",
    "fw = PyPDF2.PdfFileWriter()\n",
    "fw.appendPagesFromReader(fr)\n",
    "\n",
    "# Define an individual user password for the document\n",
    "user_pwd = \"Unguessable\"\n",
    "# Now, actually apply the encryption to our <PdfFileWriter>\n",
    "fw.encrypt(user_pwd=user_pwd)\n",
    "\n",
    "# Open up our result file and in there, paste the contents of our <PdfFileWriter> object\n",
    "with resultpath.open(mode='wb') as result:\n",
    "    fw.write(result)\n",
    "    print(f\"Done. File '{filepath.name}' has been encrypted, now saved under the name '{resultpath.name}' \\n\")\n"
   ],
   "metadata": {
    "collapsed": false,
    "pycharm": {
     "name": "#%%\n"
    }
   }
  },
  {
   "cell_type": "raw",
   "source": [
    "2.  Open the 'top_secret_encrypted.pdf' file you just created by DEcrypting it.\n",
    "    Print the text contained on the first page of the PDF."
   ],
   "metadata": {
    "collapsed": false,
    "pycharm": {
     "name": "#%% raw\n"
    }
   }
  },
  {
   "cell_type": "code",
   "execution_count": 2,
   "outputs": [
    {
     "name": "stdout",
     "output_type": "stream",
     "text": [
      "YouÕre invited to The Secret PolicemanÕs Ball! More info at https://en.wikipedia.org/wiki/\n",
      "The_Secret_Policeman%27s_Ball\n",
      "\n"
     ]
    }
   ],
   "source": [
    "# Set up a <PdfFileReader> object in order to make use of its '.decrypt()' method\n",
    "fr = PyPDF2.PdfFileReader(str(resultpath))\n",
    "\n",
    "# Actually call the '.decrypt()' method on the FileReader\n",
    "fr.decrypt(password=user_pwd)\n",
    "print(fr.getPage(0).extractText())\n"
   ],
   "metadata": {
    "collapsed": false,
    "pycharm": {
     "name": "#%%\n"
    }
   }
  }
 ],
 "metadata": {
  "kernelspec": {
   "display_name": "Python 3",
   "language": "python",
   "name": "python3"
  },
  "language_info": {
   "codemirror_mode": {
    "name": "ipython",
    "version": 2
   },
   "file_extension": ".py",
   "mimetype": "text/x-python",
   "name": "python",
   "nbconvert_exporter": "python",
   "pygments_lexer": "ipython2",
   "version": "2.7.6"
  }
 },
 "nbformat": 4,
 "nbformat_minor": 0
}