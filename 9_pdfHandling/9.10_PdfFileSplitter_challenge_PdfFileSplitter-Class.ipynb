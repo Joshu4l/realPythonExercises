{
 "cells": [
  {
   "cell_type": "raw",
   "source": [
    "CHALLENGE:\n",
    "\n",
    "Create a class called <PdfFileSplitter> that reads a PDF from an existing <PdfFileReader> instance and splits the PDF into two new PDFs.\n",
    "The class should be instantiated with a path string.\n",
    "\n",
    "E.g. here's how you would create a <PdfFileSplitter> instance from a PDF in your current 'practice_files' directory called 'mydoc.pdf' :\n",
    "\n",
    "        <example>\n",
    "            pdf_splitter = PdfFileSplitter(\"mydoc.pdf\")\n",
    "        </example>\n",
    "\n",
    "The <PdfFileSplitter> class should have two methods:\n",
    "\n",
    "1.  '.split()'  , which has a single parameter <breakpoint>, that expects an integer representing the page number at\n",
    "    which to split the PDF.\n",
    "\n",
    "2.  '.write()'  , which has a single parameter <filename>, that expects a path-string\n",
    "\n",
    "\n",
    "After you call '.split()', the <PdfFileSplitter> class should have the attribute '.writer1' assigned to\n",
    "a <PdfFileWriter> instance containing all the pages in the original PDF up to BUT NOT INCLUDING breakpoint page.\n",
    "It should also have the attribute '.writer2' assigned to a <PdfFileWriter> instance containing the remaining pages in the original PDF.\n",
    "\n",
    "When you call '.write()', two PDFs should be written to the specified path, the first with the name <filename> + '_1.pdf'\n",
    "and the second with the <filename> + '_2.pdf'.\n",
    "\n",
    "E.g. here's how you would split the mydoc.pdf at page 4 and write to two files called 'mydoc_split_1.pdf' and 'mydoc_split_2.pdf':\n",
    "\n",
    "        <example>\n",
    "            pdf_splitter.split(breakpoint=4)\n",
    "            pdf_slitter.write(\"mydoc_split\")\n",
    "        </example>\n",
    "\n",
    "Check that the splitter works by splitting the 'Price_and_Prejudice.pdf' file in the 'practice_files' folder with the breakpoint at page 150.\n",
    "Go!\n"
   ],
   "metadata": {
    "collapsed": false
   }
  },
  {
   "cell_type": "code",
   "execution_count": 1,
   "outputs": [],
   "source": [
    "# Set up a <PdfFileSplitter> class\n",
    "\n",
    "import pathlib\n",
    "import PyPDF2\n",
    "\n",
    "class PdfFileSplitter:\n",
    "\n",
    "    # Prepare two class attributes, each foreseen to receive the resulting <PdfFileWriter> instances after specifying the breakpoint\n",
    "    writer1 = PyPDF2.PdfFileWriter()\n",
    "    writer2 = PyPDF2.PdfFileWriter()\n",
    "\n",
    "    def __init__(self,filepath):\n",
    "        self.filepath = pathlib.Path(filepath)  # initially create a pathlib <Path> object from the user's input\n",
    "        self.filename = self.filepath.stem  # extract the stem name of the file we received\n",
    "        \n",
    "        self.reader_object = PyPDF2.PdfFileReader(str(self.filepath))  # turn the <Path> object into a <PdfFileReader> object\n",
    "\n",
    "\n",
    "    def __str__(self):\n",
    "        print(self.filepath)  # provide a possibility to show the filepath of our source file\n",
    "\n",
    "\n",
    "    def split(self,breakpoint):\n",
    "\n",
    "        for i in self.reader_object.pages[0:int(breakpoint)-1]:  # iterate over all .pages from 1 to <breakpoint> -1\n",
    "            PdfFileSplitter.writer1.addPage(i) # add them to our 1st <PdfFileWriter> object\n",
    "\n",
    "        for i in self.reader_object.pages[int(breakpoint):]:  # iterate over all .pages from <breakpoint> to the end\n",
    "            PdfFileSplitter.writer2.addPage(i)  # add them to our 2nd <PdfFileWriter> object\n",
    "\n",
    "        print(f\"resulting number of pages in the 1st writer object: {PdfFileSplitter.writer1.getNumPages()}\"\n",
    "              f\" (pages {1} - {breakpoint - 1})\")\n",
    "        print(f\"resulting number of pages in the 2nd writer object: {PdfFileSplitter.writer2.getNumPages()}\"\n",
    "              f\" (pages {breakpoint} - {breakpoint +  PdfFileSplitter.writer2.getNumPages()})\")\n",
    "\n",
    "\n",
    "    def write(self,filename):\n",
    "        result_dir = self.filepath.parent / \"split_results\"  # prepare a directory for the resulting files\n",
    "        result_dir.mkdir(parents=True,exist_ok=True)\n",
    "\n",
    "        # Create two new file paths for the resulting files\n",
    "        split_result_path1 = result_dir.joinpath(str(filename) + \"_split1.pdf\")\n",
    "        split_result_path2 = result_dir.joinpath(str(filename) + \"_split2.pdf\")\n",
    "\n",
    "        # open directly handles the '.touch()' method itself\n",
    "        with open(split_result_path1, mode=\"wb\") as result_file1:  # open the 1st new filepath\n",
    "            PdfFileSplitter.writer1.write(result_file1)  # tell the 1st <PdfFileWriter> where to paste its content\n",
    "\n",
    "        with open(split_result_path2, mode=\"wb\") as result_file2:  # open the 2nd new filepath\n",
    "            PdfFileSplitter.writer2.write(result_file2)  # tell the 2nd <PdfFileWriter> where to paste its content\n",
    "    \n",
    "        print(\"Split was done - Check your result folder!\")\n",
    "\n"
   ],
   "metadata": {
    "collapsed": false,
    "pycharm": {
     "name": "#%%\n"
    }
   }
  },
  {
   "cell_type": "code",
   "execution_count": 2,
   "outputs": [
    {
     "name": "stdout",
     "output_type": "stream",
     "text": [
      "resulting number of pages in the 1st writer object: 149 (pages 1 - 149)\n",
      "resulting number of pages in the 2nd writer object: 84 (pages 150 - 234)\n",
      "Split was done - Check your result folder!\n"
     ]
    }
   ],
   "source": [
    "\n",
    "# test the class by instantiating a <PdfFileSplitter> object\n",
    "mypdf = PdfFileSplitter(r\"C:\\Users\\Joshua Albert\\PycharmProjects\\realPythonExercises\\9_pdfHandling\\practice_files\\Pride_and_Prejudice.pdf\")\n",
    "\n",
    "# test the class by calling its '.split' method\n",
    "mypdf.split(150)\n",
    "mypdf.write(\"Ergebnis\")\n"
   ],
   "metadata": {
    "collapsed": false,
    "pycharm": {
     "name": "#%%\n"
    }
   }
  },
  {
   "cell_type": "raw",
   "source": [],
   "metadata": {
    "collapsed": false,
    "pycharm": {
     "name": "#%% raw\n"
    }
   }
  }
 ],
 "metadata": {
  "kernelspec": {
   "display_name": "Python 3",
   "language": "python",
   "name": "python3"
  },
  "language_info": {
   "codemirror_mode": {
    "name": "ipython",
    "version": 2
   },
   "file_extension": ".py",
   "mimetype": "text/x-python",
   "name": "python",
   "nbconvert_exporter": "python",
   "pygments_lexer": "ipython2",
   "version": "2.7.6"
  }
 },
 "nbformat": 4,
 "nbformat_minor": 0
}