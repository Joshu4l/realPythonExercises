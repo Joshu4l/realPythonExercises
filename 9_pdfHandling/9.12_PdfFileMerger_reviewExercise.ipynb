{
 "cells": [
  {
   "cell_type": "raw",
   "metadata": {
    "collapsed": true,
    "pycharm": {
     "name": "#%% raw\n"
    }
   },
   "source": [
    "Within your 'practice_files' directory, there are three PDFs called 'merge1.pdf', 'merge2.pdf' and 'merge3.pdf'.\n",
    "\n",
    "1. Using a <PdfFileMerger> instance, concatenate the two files 'merge1.pdf' and 'merge2.pdf' using the '.append()' method.\n",
    "   Save the concatenated PDFs to a file called 'concatenated.pdf' within your 'practice_files' directory."
   ]
  },
  {
   "cell_type": "code",
   "execution_count": 61,
   "outputs": [
    {
     "name": "stdout",
     "output_type": "stream",
     "text": [
      "'merge1.pdf' will be appended to <pdf_merger1>\n",
      "'merge2.pdf' will be appended to <pdf_merger1>\n"
     ]
    }
   ],
   "source": [
    "import pathlib\n",
    "import PyPDF2\n",
    "\n",
    "practice_dir = pathlib.Path.cwd() / \"practice_files\"\n",
    "source_files = sorted([path for path in practice_dir.glob(\"merge?.pdf\")])\n",
    "\n",
    "pdf_merger1 = PyPDF2.PdfFileMerger()\n",
    "\n",
    "\n",
    "for i in source_files[0:2]:  # picking 'merge1.pdf' and 'merge2.pdf' here\n",
    "    print(f\"'{i.name}' will be appended to <pdf_merger1>\")  # print the name of each pathlib object we chose\n",
    "    pdf_merger1.append(str(i))  # append that pathlib object to the <pdf_merger1>\n",
    "\n",
    "\n",
    "with open(r\"C:\\Users\\Joshua Albert\\PycharmProjects\\realPythonExercises\\9_pdfHandling\\practice_files\\concatenated.pdf\", mode=\"wb\") as concatenated_file:\n",
    "    pdf_merger1.write(concatenated_file)  # write the merger's content to the path ('concatenated.pdf') we specified\n"
   ],
   "metadata": {
    "collapsed": false,
    "pycharm": {
     "name": "#%%\n"
    }
   }
  },
  {
   "cell_type": "raw",
   "source": [
    "\n",
    "\n",
    "2. With a new <PdfFileMerger> instance, use '.merge()' to merge the file 'merge3.pdf' in between the two pages in the concatenated PDF files.\n",
    "   Save the new file to your 'practice_files' directory as 'merged.pdf'."
   ],
   "metadata": {
    "collapsed": false,
    "pycharm": {
     "name": "#%% raw\n"
    }
   }
  },
  {
   "cell_type": "code",
   "execution_count": 63,
   "outputs": [],
   "source": [
    "# Prepare a new <merger> class\n",
    "pdf_merger2 = PyPDF2.PdfFileMerger()\n",
    "\n",
    "existing_concat = pathlib.Path.cwd() / \"practice_files\" / \"concatenated.pdf\"  # make use of what we already have (which is our 'concatenated.pdf' file)\n",
    "pdf_merger2.append(str(existing_concat))\n",
    "\n",
    "\n",
    "# Now, actually merge/insert the 'merge3.pdf' in between the two existing pages of our <pdf_merger2>\n",
    "pdf_merger2.merge(1,str(source_files[2]))\n",
    "\n",
    "\n",
    "with open(r\"C:\\Users\\Joshua Albert\\PycharmProjects\\realPythonExercises\\9_pdfHandling\\practice_files\\merged.pdf\", mode=\"wb\") as merged_file:\n",
    "    pdf_merger2.write(merged_file)  # write the merger's content to the path ('merged.pdf') we specified\n"
   ],
   "metadata": {
    "collapsed": false,
    "pycharm": {
     "name": "#%%\n"
    }
   }
  },
  {
   "cell_type": "raw",
   "source": [
    "\n",
    "The final result should be a PDF with three pages. The first page should have the number 1 on it. The second should have 2, and the third should have 3.\n",
    "Go!"
   ],
   "metadata": {
    "collapsed": false,
    "pycharm": {
     "name": "#%% raw\n"
    }
   }
  }
 ],
 "metadata": {
  "kernelspec": {
   "display_name": "Python 3",
   "language": "python",
   "name": "python3"
  },
  "language_info": {
   "codemirror_mode": {
    "name": "ipython",
    "version": 2
   },
   "file_extension": ".py",
   "mimetype": "text/x-python",
   "name": "python",
   "nbconvert_exporter": "python",
   "pygments_lexer": "ipython2",
   "version": "2.7.6"
  }
 },
 "nbformat": 4,
 "nbformat_minor": 0
}