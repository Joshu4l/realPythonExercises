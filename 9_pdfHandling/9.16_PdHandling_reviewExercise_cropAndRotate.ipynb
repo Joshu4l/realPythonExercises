{
 "cells": [
  {
   "cell_type": "raw",
   "metadata": {
    "collapsed": true,
    "pycharm": {
     "name": "#%% raw\n"
    }
   },
   "source": [
    "REVIEW EXERCISE ON: SPLITTING & CROPPING PDF FILES\n",
    "\n",
    "1.  Your 'practice_files' folder contains a PDF file called 'split_and_rotate.pdf'.\n",
    "    Creata a new PDF called 'rotated.pdf' that contains the pages of that 'split_and_rotate.pdf' mentioned above\n",
    "    In the new file, all pages shall be rotated counterclockwise by 90° each.\n"
   ]
  },
  {
   "cell_type": "code",
   "execution_count": 26,
   "outputs": [
    {
     "name": "stdout",
     "output_type": "stream",
     "text": [
      "True\n",
      "True\n"
     ]
    }
   ],
   "source": [
    "import pathlib\n",
    "import PyPDF2\n",
    "import copy\n",
    "\n",
    "# Set up the path for our targeted directory\n",
    "target_dir = pathlib.Path.cwd() / \"practice_files\"\n",
    "\n",
    "# Set up the path for our targeted file\n",
    "filepath = target_dir / \"split_and_rotate.pdf\"\n",
    "\n",
    "# Create both, a pdf reader and a pdf writer\n",
    "file_reader = PyPDF2.PdfFileReader(str(filepath))\n",
    "file_writer = PyPDF2.PdfFileWriter()\n",
    "\n",
    "# loop over each page of our <file_reader> object\n",
    "for i in range(file_reader.getNumPages()):\n",
    "\n",
    "    page = copy.deepcopy(file_reader.getPage(i))  # copy is necessary here (in order to keep the original page untouched)\n",
    "\n",
    "    # rotate each page until it is in portait mode\n",
    "    while page['/Rotate'] != 0:\n",
    "        page.rotateCounterClockwise(90)\n",
    "\n",
    "    # Collect the two coordinates of which the upperRight corner consists\n",
    "    x,y = page.mediaBox.upperRight\n",
    "    split_coordinates = (x/2, y)  # in order to split a page vertically we only need HALF of the x-Coordinate's position\n",
    "\n",
    "    # let's use two deep copies again here for both resulting halves\n",
    "    left_half = copy.deepcopy(page)\n",
    "    right_half = copy.deepcopy(page)\n",
    "\n",
    "    # Actually determine the measurements of both halves:\n",
    "    # The new split_coordinates shall be ...\n",
    "    left_half.mediaBox.upperRight = split_coordinates  # ... equal to the upper right corner of the left half\n",
    "    right_half.mediaBox.upperLeft = split_coordinates  # ... equal to the upper left corner  of the right half\n",
    "\n",
    "    # Eventually add those two rotated and split pages to our <FileWriter> object\n",
    "    file_writer.addPage(left_half)\n",
    "    file_writer.addPage(right_half)\n",
    "\n",
    "# Set up the path for our resulting file\n",
    "result_path = target_dir / \"rotated.pdf\"\n",
    "result_path.touch(exist_ok=True)\n",
    "\n",
    "# Finally, paste the <FileWriter>'s contents into our result file\n",
    "with result_path.open(mode=\"wb\") as result:\n",
    "    file_writer.write(result)\n",
    "\n",
    "\n"
   ],
   "metadata": {
    "collapsed": false,
    "pycharm": {
     "name": "#%%\n"
    }
   }
  },
  {
   "cell_type": "raw",
   "source": [
    "2.  Using the 'rotated.pdf' file created in exercise 1, split each page of the pdf vertically in the middle.\n",
    "    Create a new PDF in your 'practice_files' directory called 'split.pdf' that contains all of the split pages."
   ],
   "metadata": {
    "collapsed": false,
    "pycharm": {
     "name": "#%% raw\n"
    }
   }
  },
  {
   "cell_type": "code",
   "execution_count": 24,
   "outputs": [],
   "source": [
    "import pathlib\n",
    "import PyPDF2\n",
    "\n"
   ],
   "metadata": {
    "collapsed": false,
    "pycharm": {
     "name": "#%%\n"
    }
   }
  },
  {
   "cell_type": "raw",
   "source": [
    "3.  Last but not least, verify that everythink worked fine:\n",
    "    'split.pdf' should now have four pages with the numbers with tht numbers 1, 2, 3, 4 in order."
   ],
   "metadata": {
    "collapsed": false,
    "pycharm": {
     "name": "#%% raw\n"
    }
   }
  },
  {
   "cell_type": "code",
   "execution_count": 24,
   "outputs": [],
   "source": [],
   "metadata": {
    "collapsed": false,
    "pycharm": {
     "name": "#%%\n"
    }
   }
  }
 ],
 "metadata": {
  "kernelspec": {
   "display_name": "Python 3",
   "language": "python",
   "name": "python3"
  },
  "language_info": {
   "codemirror_mode": {
    "name": "ipython",
    "version": 2
   },
   "file_extension": ".py",
   "mimetype": "text/x-python",
   "name": "python",
   "nbconvert_exporter": "python",
   "pygments_lexer": "ipython2",
   "version": "2.7.6"
  }
 },
 "nbformat": 4,
 "nbformat_minor": 0
}