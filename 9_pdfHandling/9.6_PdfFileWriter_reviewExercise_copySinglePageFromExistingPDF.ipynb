{
 "cells": [
  {
   "cell_type": "raw",
   "source": [
    "# REVIEW EXERCISE ON EXTRACTING A PAGE FROM AN EXISTING PDF DOCUMENT AND THEN SAVE THAT EXTRACT IN A NEW FILE\n",
    "\n",
    "1. Revisit the 'Pride_and_Prejudice.pdf' file that is located in our 'practice_files' directory."
   ],
   "metadata": {
    "collapsed": false,
    "pycharm": {
     "name": "#%% raw\n"
    }
   }
  },
  {
   "cell_type": "code",
   "execution_count": 21,
   "outputs": [],
   "source": [
    "# Necessary lib import for setting up the file path of our pdf\n",
    "import pathlib\n",
    "\n",
    "pdf_source_path = pathlib.Path.cwd() / \"practice_files\" / \"Pride_and_Prejudice.pdf\"\n",
    "\n"
   ],
   "metadata": {
    "collapsed": false,
    "pycharm": {
     "name": "#%%\n"
    }
   }
  },
  {
   "cell_type": "raw",
   "source": [
    "\n",
    "2. Read the document and extract its first page"
   ],
   "metadata": {
    "collapsed": false,
    "pycharm": {
     "name": "#%% raw\n"
    }
   }
  },
  {
   "cell_type": "code",
   "execution_count": 22,
   "outputs": [],
   "source": [
    "# Necessary import from the PyPDF2 module in order to make use of the <PdfFileReader> class\n",
    "from PyPDF2 import PdfFileReader\n",
    "pdf_file_reader = PdfFileReader(str(pdf_source_path))\n",
    "page1 = pdf_file_reader.getPage(0)\n",
    "\n"
   ],
   "metadata": {
    "collapsed": false,
    "pycharm": {
     "name": "#%%\n"
    }
   }
  },
  {
   "cell_type": "raw",
   "source": [
    "\n",
    "3. Create a new pdf document and paste the first page you extracted from the 'Pride_and_Prejudice' file"
   ],
   "metadata": {
    "collapsed": false,
    "pycharm": {
     "name": "#%% raw\n"
    }
   }
  },
  {
   "cell_type": "code",
   "execution_count": 23,
   "outputs": [],
   "source": [
    "# Necessary import from the PyPDF2 module in order to make use of the <PdfFileWriter> class\n",
    "from PyPDF2 import PdfFileWriter\n",
    "\n",
    "\n",
    "# 1ST STEP:  Actually instantiate a <PdfFileWriter> object\n",
    "pdf_file_writer = PdfFileWriter()  # no parameters needed!\n",
    "\n",
    "\n",
    "# 2ND STEP:  Add one or more pages to the <PdfFileWriter> object\n",
    "pdf_file_writer.addPage(page1)  # tell the file writer object what it even should consist of, in this case it's the first page we extracted above\n",
    "\n",
    "\n",
    "# 3RD STEP:  define the new location, to which the <PdfFileWriter> object shall paste its contents\n",
    "# and pass the that result location to the <PdfFileWriter>'s  '.write()'-method\n",
    "pdf_result_path = pathlib.Path.cwd() / \"practice_files\" / \"Pride_and_Prejudice_page1.pdf\"\n",
    "pdf_result_path.touch(exist_ok=True)\n",
    "with pdf_result_path.open(mode=\"wb\") as pdf_result:  # no encoding needed when dealing acting in binary mode\n",
    "    pdf_file_writer.write(pdf_result)  # tell the reader in what location its stored contents shall land\n",
    "\n"
   ],
   "metadata": {
    "collapsed": false,
    "pycharm": {
     "name": "#%%\n"
    }
   }
  },
  {
   "cell_type": "raw",
   "source": [],
   "metadata": {
    "collapsed": false,
    "pycharm": {
     "name": "#%% raw\n"
    }
   }
  },
  {
   "cell_type": "raw",
   "metadata": {
    "collapsed": true,
    "pycharm": {
     "name": "#%% raw\n"
    }
   },
   "source": []
  }
 ],
 "metadata": {
  "kernelspec": {
   "display_name": "Python 3",
   "language": "python",
   "name": "python3"
  },
  "language_info": {
   "codemirror_mode": {
    "name": "ipython",
    "version": 2
   },
   "file_extension": ".py",
   "mimetype": "text/x-python",
   "name": "python",
   "nbconvert_exporter": "python",
   "pygments_lexer": "ipython2",
   "version": "2.7.6"
  }
 },
 "nbformat": 4,
 "nbformat_minor": 0
}