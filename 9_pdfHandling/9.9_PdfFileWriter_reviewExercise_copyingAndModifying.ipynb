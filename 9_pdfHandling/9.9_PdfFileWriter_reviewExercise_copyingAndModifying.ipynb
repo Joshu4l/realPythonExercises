{
 "cells": [
  {
   "cell_type": "raw",
   "source": [
    "# REVIEW EXERCISE, USING EVERYTHING WE'VE LEARNED ABOUT FILE READERS AND WRITERS SO FAR"
   ],
   "metadata": {
    "collapsed": false,
    "pycharm": {
     "name": "#%% raw\n"
    }
   }
  },
  {
   "cell_type": "raw",
   "source": [
    "1. Extract the last page from the 'Pride_and_Prejudice.pdf' file and save it to a new file called 'last_page.pdf' within your 'practice_files' directory"
   ],
   "metadata": {
    "collapsed": false,
    "pycharm": {
     "name": "#%% raw\n"
    }
   }
  },
  {
   "cell_type": "code",
   "execution_count": null,
   "metadata": {
    "collapsed": true
   },
   "outputs": [],
   "source": [
    "\n"
   ]
  },
  {
   "cell_type": "raw",
   "source": [
    "2. Extract all pages with even-numbered indices (not page numbes) from the 'Pride_and_Prejudice.pdf' file  and save them to a new file called\n",
    "   'every_other_page.pdf' within your 'practice_files' directory"
   ],
   "metadata": {
    "collapsed": false,
    "pycharm": {
     "name": "#%% raw\n"
    }
   }
  },
  {
   "cell_type": "code",
   "execution_count": null,
   "outputs": [],
   "source": [
    "\n"
   ],
   "metadata": {
    "collapsed": false,
    "pycharm": {
     "name": "#%%\n"
    }
   }
  },
  {
   "cell_type": "raw",
   "source": [
    "3. Split the 'Pride_and_Prejudice.pdf' file into two new PDF files. The first file should contain the first 150 pages, and the second file should contain\n",
    "   the remaining pages. Save both files in your 'practice_files' directory as 'part_1.pdf' and 'part_2.pdf'"
   ],
   "metadata": {
    "collapsed": false,
    "pycharm": {
     "name": "#%% raw\n"
    }
   }
  },
  {
   "cell_type": "code",
   "execution_count": null,
   "outputs": [],
   "source": [
    "\n"
   ],
   "metadata": {
    "collapsed": false,
    "pycharm": {
     "name": "#%%\n"
    }
   }
  }
 ],
 "metadata": {
  "kernelspec": {
   "display_name": "Python 3",
   "language": "python",
   "name": "python3"
  },
  "language_info": {
   "codemirror_mode": {
    "name": "ipython",
    "version": 2
   },
   "file_extension": ".py",
   "mimetype": "text/x-python",
   "name": "python",
   "nbconvert_exporter": "python",
   "pygments_lexer": "ipython2",
   "version": "2.7.6"
  }
 },
 "nbformat": 4,
 "nbformat_minor": 0
}