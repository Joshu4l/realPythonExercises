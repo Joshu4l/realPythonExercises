{
 "cells": [
  {
   "cell_type": "raw",
   "source": [
    "# REVIEW EXERCISE, USING EVERYTHING WE'VE LEARNED ABOUT FILE READERS AND WRITERS SO FAR"
   ],
   "metadata": {
    "collapsed": false,
    "pycharm": {
     "name": "#%% raw\n"
    }
   }
  },
  {
   "cell_type": "raw",
   "source": [
    "1. Extract the last page from the 'Pride_and_Prejudice.pdf' file and save it to a new file called 'last_page.pdf' within your 'practice_files' directory"
   ],
   "metadata": {
    "collapsed": false,
    "pycharm": {
     "name": "#%% raw\n"
    }
   }
  },
  {
   "cell_type": "code",
   "execution_count": 8,
   "metadata": {
    "collapsed": true
   },
   "outputs": [
    {
     "name": "stdout",
     "output_type": "stream",
     "text": [
      "Extraction and saving completed. Check your result file under:\n",
      "C:\\Users\\Joshua Albert\\PycharmProjects\\realPythonExercises\\9_pdfHandling\\practice_files\\last_page.pdf\n"
     ]
    }
   ],
   "source": [
    "import pathlib\n",
    "import PyPDF2\n",
    "\n",
    "pdf_source_path = pathlib.Path.cwd() / \"practice_files\" / \"Pride_and_Prejudice.pdf\"\n",
    "\n",
    "pdf_reader = PyPDF2.PdfFileReader(str(pdf_source_path))\n",
    "last_page = pdf_reader.pages[-1]\n",
    "\n",
    "pdf_writer = PyPDF2.PdfFileWriter()\n",
    "pdf_writer.addPage(last_page)\n",
    "\n",
    "pdf_destination_path = pathlib.Path.cwd() / \"practice_files\" / \"last_page.pdf\"\n",
    "\n",
    "with pdf_destination_path.open(mode=\"wb\") as pdf_destination:\n",
    "    pdf_writer.write(pdf_destination)\n",
    "\n",
    "print(f\"Extraction and saving completed. Check your result file under:\\n\"\n",
    "      f\"{pdf_destination_path}\")\n",
    "\n"
   ]
  },
  {
   "cell_type": "raw",
   "source": [
    "2. Extract all pages with even-numbered indices (not page numbes) from the 'Pride_and_Prejudice.pdf' file  and save them to a new file called\n",
    "   'every_other_page.pdf' within your 'practice_files' directory"
   ],
   "metadata": {
    "collapsed": false,
    "pycharm": {
     "name": "#%% raw\n"
    }
   }
  },
  {
   "cell_type": "code",
   "execution_count": 10,
   "outputs": [
    {
     "name": "stdout",
     "output_type": "stream",
     "text": [
      "Extraction and saving completed. Check your result file under:\n",
      "C:\\Users\\Joshua Albert\\PycharmProjects\\realPythonExercises\\9_pdfHandling\\practice_files\\every_other_page.pdf\n"
     ]
    }
   ],
   "source": [
    "\n",
    "for x in pdf_reader.pages[0::2]:\n",
    "    pdf_writer.addPage(x)\n",
    "\n",
    "pdf_destination_path = pathlib.Path.cwd() / \"practice_files\" / \"every_other_page.pdf\"\n",
    "\n",
    "with pdf_destination_path.open(mode=\"wb\") as pdf_destination:\n",
    "    pdf_writer.write(pdf_destination)\n",
    "\n",
    "print(f\"Extraction and saving completed. Check your result file under:\\n\"\n",
    "      f\"{pdf_destination_path}\")\n",
    "\n"
   ],
   "metadata": {
    "collapsed": false,
    "pycharm": {
     "name": "#%%\n"
    }
   }
  },
  {
   "cell_type": "raw",
   "source": [
    "3. Split the 'Pride_and_Prejudice.pdf' file into two new PDF files. The first file should contain the first 150 pages, and the second file should contain\n",
    "   the remaining pages. Save both files in your 'practice_files' directory as 'part_1.pdf' and 'part_2.pdf'"
   ],
   "metadata": {
    "collapsed": false,
    "pycharm": {
     "name": "#%% raw\n"
    }
   }
  },
  {
   "cell_type": "code",
   "execution_count": 27,
   "outputs": [
    {
     "name": "stdout",
     "output_type": "stream",
     "text": [
      "C:\\Users\\Joshua Albert\\PycharmProjects\\realPythonExercises\\9_pdfHandling\\practice_files\\result1.pdf\n",
      "C:\\Users\\Joshua Albert\\PycharmProjects\\realPythonExercises\\9_pdfHandling\\practice_files\\result2.pdf\n"
     ]
    }
   ],
   "source": [
    "\n",
    "class PdfSplit:\n",
    "\n",
    "    file_writer1 = PyPDF2.PdfFileWriter()\n",
    "    file_writer2 = PyPDF2.PdfFileWriter()\n",
    "\n",
    "    def __init__(self, filepath):\n",
    "        self.filepath = filepath\n",
    "        self.file_reader = PyPDF2.PdfFileReader(str(self.filepath))\n",
    "\n",
    "    def split(self, break_point, new_name):\n",
    "        for y in self.file_reader.pages[0:break_point-1]:\n",
    "            PdfSplit.file_writer1.addPage(y)\n",
    "        for z in self.file_reader.pages[break_point:]:\n",
    "            PdfSplit.file_writer2.addPage(z)\n",
    "\n",
    "        target_dir = pathlib.Path.cwd() / \"practice_files\"\n",
    "\n",
    "        result_filepath1 = target_dir.joinpath(str(new_name) + \"1.pdf\")\n",
    "        result_filepath2 = target_dir.joinpath(str(new_name) + \"2.pdf\")\n",
    "\n",
    "        result_filepath1.touch(exist_ok=True)\n",
    "        result_filepath2.touch(exist_ok=True)\n",
    "\n",
    "        with result_filepath1.open(mode=\"wb\") as result_file1:\n",
    "            PdfSplit.file_writer1.write(result_file1)\n",
    "\n",
    "        with result_filepath2.open(mode=\"wb\") as result_file2:\n",
    "            PdfSplit.file_writer2.write(result_file2)\n",
    "\n",
    "\n",
    "\n",
    "my_pdf = PdfSplit(r\"C:\\Users\\Joshua Albert\\PycharmProjects\\realPythonExercises\\9_pdfHandling\\practice_files\\Pride_and_Prejudice.pdf\")\n",
    "\n",
    "my_pdf.split(101,\"result\")\n"
   ],
   "metadata": {
    "collapsed": false,
    "pycharm": {
     "name": "#%%\n"
    }
   }
  }
 ],
 "metadata": {
  "kernelspec": {
   "display_name": "Python 3",
   "language": "python",
   "name": "python3"
  },
  "language_info": {
   "codemirror_mode": {
    "name": "ipython",
    "version": 2
   },
   "file_extension": ".py",
   "mimetype": "text/x-python",
   "name": "python",
   "nbconvert_exporter": "python",
   "pygments_lexer": "ipython2",
   "version": "2.7.6"
  }
 },
 "nbformat": 4,
 "nbformat_minor": 0
}