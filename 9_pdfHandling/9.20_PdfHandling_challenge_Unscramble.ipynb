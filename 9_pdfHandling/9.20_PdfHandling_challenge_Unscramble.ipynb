{
 "cells": [
  {
   "cell_type": "raw",
   "metadata": {
    "collapsed": true,
    "pycharm": {
     "name": "#%% raw\n"
    }
   },
   "source": [
    "CHALLENGE ON: UNSCRAMBLING A KIND OF MESSY PDF DOCUMENT\n",
    "\n",
    "Your 'practice_files' directory contains a file called 'scrambled.pdf' which has seven pages.\n",
    "Each page contains a number from 1 through 7, but they are out of order.\n",
    "\n",
    "Additionally some of the pages are rotated by 90,180, or 270 degrees in either the clockwise or the counterclockwise direction.\n",
    "\n",
    "Write a program that unscrambles the PDF by sorting the pages according to the number contained in the page text and rotates the page if needed, so that it's upright.\n",
    "Save the unscrambled PDF to a file called 'unscrambled.pdf' within your 'practice_files' directory"
   ]
  },
  {
   "cell_type": "code",
   "execution_count": 2,
   "outputs": [
    {
     "name": "stdout",
     "output_type": "stream",
     "text": [
      "Done. Check out the result under:\n",
      "C:\\Users\\Joshua Albert\\PycharmProjects\\realPythonExercises\\9_pdfHandling\\practice_files\\unscrambled.pdf\n"
     ]
    }
   ],
   "source": [
    "\n",
    "# Do the necessary import\n",
    "import pathlib\n",
    "\n",
    "# Set up respective path objects for our target directory, for the file we want to work with, as well as for the resulting 'unscrambled' file\n",
    "target_dir = pathlib.Path.cwd() / 'practice_files'\n",
    "filepath = target_dir / 'scrambled.pdf'\n",
    "resultpath = target_dir / 'unscrambled.pdf'\n",
    "resultpath.touch(exist_ok=True)\n",
    "\n",
    "# Do the necessary import\n",
    "import PyPDF2\n",
    "import copy\n",
    "\n",
    "# Set up a <PdfFileReader> object to extract information from\n",
    "file_reader = PyPDF2.PdfFileReader(str(filepath))\n",
    "# Set up a <PdfFileWriter> object to take over the contents of our <PdfFileReader> and modify them\n",
    "file_writer = PyPDF2.PdfFileWriter()\n",
    "# file_writer.appendPagesFromReader(file_reader)\n",
    "\n",
    "page_collection_unsorted = []\n",
    "for i in range(file_reader.getNumPages()):\n",
    "\n",
    "\t# First of all, generate a page object for every i in the file_reader\n",
    "\tpage = copy.deepcopy(file_reader.getPage(i))\n",
    "\t# Next, extract the text from the page at hand (only the first character) and turn it into an integer\n",
    "\tpage_position = int(page.extractText()[0])\n",
    "\n",
    "\t# Now, take care of the falsely orientated pages. If they're not in portrait mode, rotate them until they in fact are!\n",
    "\tif page['/Rotate'] != 0:\n",
    "\t\t# spin it by exactly what degree is not falling in line\n",
    "\t\tpage.rotateCounterClockwise(page['/Rotate'])\n",
    "\t\t# when that is done append it and its position to the page_collection_unsorted\n",
    "\t\tpage_collection_unsorted.append([page, page_position])\n",
    "\telse:\n",
    "\t\t# Populate our empty list with the page objects themselves as well as their numbers (we want to order them in the next step)\n",
    "\t\tpage_collection_unsorted.append([page, page_position])\n",
    "\n",
    "\n",
    "# Now use the page collection we populated randomly and sort the list BY THEIR RESPECTIVE 2ND ELEMENTS (which are their 'page_positions')\n",
    "page_collection_sorted = sorted(page_collection_unsorted, key= lambda k: k[1])\n",
    "\n",
    "for j in page_collection_sorted:\n",
    "\tfile_writer.addPage(j[0])\n",
    "\n",
    "with resultpath.open(mode='wb') as result:\n",
    "\tfile_writer.write(result)\n",
    "\n",
    "print(f\"Done. Check out the result under:\\n\"\n",
    "      f\"{resultpath}\")"
   ],
   "metadata": {
    "collapsed": false,
    "pycharm": {
     "name": "#%%\n"
    }
   }
  }
 ],
 "metadata": {
  "kernelspec": {
   "display_name": "Python 3",
   "language": "python",
   "name": "python3"
  },
  "language_info": {
   "codemirror_mode": {
    "name": "ipython",
    "version": 2
   },
   "file_extension": ".py",
   "mimetype": "text/x-python",
   "name": "python",
   "nbconvert_exporter": "python",
   "pygments_lexer": "ipython2",
   "version": "2.7.6"
  }
 },
 "nbformat": 4,
 "nbformat_minor": 0
}