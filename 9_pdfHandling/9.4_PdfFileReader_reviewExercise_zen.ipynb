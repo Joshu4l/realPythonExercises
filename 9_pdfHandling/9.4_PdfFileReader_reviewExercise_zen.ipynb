{
 "cells": [
  {
   "cell_type": "raw",
   "source": [
    "REVIEW EXERCISE:\n",
    "\n",
    "1. Using the 'zen.pdf' file within the 'practice_files' folder, create a <PdfFileReader> instance for that file"
   ],
   "metadata": {
    "collapsed": false,
    "pycharm": {
     "name": "#%% raw\n"
    }
   }
  },
  {
   "cell_type": "code",
   "execution_count": 5,
   "outputs": [
    {
     "name": "stdout",
     "output_type": "stream",
     "text": [
      "True\n"
     ]
    }
   ],
   "source": [
    "# Do the necessary lib import and create a file path for the source pdf\n",
    "import pathlib\n",
    "pdf_source_path = (\n",
    "                    pathlib.Path.cwd() /\n",
    "                    \"practice_files\" /\n",
    "                    \"zen.pdf\"\n",
    "                    )\n",
    "# pdf_source_path.touch(exist_ok=True)\n",
    "print(pdf_source_path.exists())\n",
    "\n",
    "\n",
    "# Do the necessary lib import and instantiate a <PdfFileReader> object using our <pdf_source_path> from above\n",
    "import PyPDF2\n",
    "pdf = PyPDF2.PdfFileReader(str(pdf_source_path))  # Don't forget to pass in pathlib objects as STRINGS! (applies for all PDF-ish arguments because: BLOB speciality)\n"
   ],
   "metadata": {
    "collapsed": false,
    "pycharm": {
     "name": "#%%\n"
    }
   }
  },
  {
   "cell_type": "raw",
   "source": [
    "2. Using the <PdfFileReader> instance from exercise 1, print the total number of pages in the PDF"
   ],
   "metadata": {
    "collapsed": false,
    "pycharm": {
     "name": "#%% raw\n"
    }
   }
  },
  {
   "cell_type": "code",
   "execution_count": 8,
   "outputs": [
    {
     "name": "stdout",
     "output_type": "stream",
     "text": [
      "number of pages in the document: 1\n"
     ]
    }
   ],
   "source": [
    "print(f\"number of pages in the document: {pdf.getNumPages()}\")\n"
   ],
   "metadata": {
    "collapsed": false,
    "pycharm": {
     "name": "#%%\n"
    }
   }
  },
  {
   "cell_type": "raw",
   "source": [
    "3. Using the <PdfFileReader> instance from exercise 1, print the text from the first page of the  document"
   ],
   "metadata": {
    "collapsed": false,
    "pycharm": {
     "name": "#%% raw\n"
    }
   }
  },
  {
   "cell_type": "code",
   "execution_count": 7,
   "outputs": [
    {
     "name": "stdout",
     "output_type": "stream",
     "text": [
      "The Zen of Python, by Tim Peters!Beautiful is better than ugly.\n",
      "!Explicit is better than implicit.!Simple is better than complex.!Complex is better than complicated.!Flat is better than nested.!Sparse is better than dense.!Readability counts.!Special cases aren't special enough to break the rules.\n",
      "!Although practicality beats purity.\n",
      "!Errors should never pass silently.\n",
      "!Unless explicitly silenced.!In the face of ambiguity, refuse the temptation to guess.\n",
      "!There should be one-- and preferably only one --obvious way to do it.\n",
      "!Although that way may not be obvious at Þrst unless you're Dutch.\n",
      "!Now is better than never.\n",
      "!Although never is often better than *right* now.\n",
      "!If the implementation is hard to explain, it's a bad idea.\n",
      "!If the implementation is easy to explain, it may be a good idea.!Namespaces are one honking great idea -- let's do more of those!\n",
      "\n"
     ]
    }
   ],
   "source": [
    "first_page = pdf.getPage(0)\n",
    "print(first_page.extractText())\n"
   ],
   "metadata": {
    "collapsed": false,
    "pycharm": {
     "name": "#%%\n"
    }
   }
  },
  {
   "cell_type": "raw",
   "metadata": {
    "collapsed": true,
    "pycharm": {
     "name": "#%% raw\n"
    }
   },
   "source": []
  }
 ],
 "metadata": {
  "kernelspec": {
   "display_name": "Python 3",
   "language": "python",
   "name": "python3"
  },
  "language_info": {
   "codemirror_mode": {
    "name": "ipython",
    "version": 2
   },
   "file_extension": ".py",
   "mimetype": "text/x-python",
   "name": "python",
   "nbconvert_exporter": "python",
   "pygments_lexer": "ipython2",
   "version": "2.7.6"
  }
 },
 "nbformat": 4,
 "nbformat_minor": 0
}