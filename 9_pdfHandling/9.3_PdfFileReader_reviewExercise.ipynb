{
 "cells": [
  {
   "cell_type": "raw",
   "metadata": {
    "collapsed": true,
    "pycharm": {
     "name": "#%% raw\n"
    }
   },
   "source": [
    "EXERCISE: Write a program, that reads in the text of the \"Pride_and_Prejudice.pdf\"-file within your \"practice_files\" folder.\n",
    "After that is done, write the extracted text to a new result file called \"Pride_and_Prejudice_Extract.txt\""
   ]
  },
  {
   "cell_type": "code",
   "execution_count": 8,
   "outputs": [],
   "source": [
    "# Do the necessary lib import and set up both file paths (source and result)\n",
    "import pathlib\n",
    "\n",
    "# source file path\n",
    "pdf_source_path = (\n",
    "\t\t\t\t\tpathlib.Path.cwd() /\n",
    "\t\t\t\t\t\"practice_files\" /\n",
    "\t\t\t\t\t\"Pride_and_Prejudice.pdf\"\n",
    "\t\t\t\t\t)\n",
    "pdf_source_path.touch(exist_ok=True)\n",
    "\n",
    "\n",
    "# result file path\n",
    "txt_result_path = (\n",
    "\t\t\t\t\tpathlib.Path.cwd() /\n",
    "\t\t\t\t\t\"practice_files\" /\n",
    "\t\t\t\t\t\"Pride_and_Prejudice_Extract.txt\"\n",
    "\t\t\t\t\t)\n",
    "txt_result_path.touch(exist_ok=True)\n",
    "\n"
   ],
   "metadata": {
    "collapsed": false,
    "pycharm": {
     "name": "#%%\n"
    }
   }
  },
  {
   "cell_type": "code",
   "execution_count": 12,
   "outputs": [
    {
     "name": "stdout",
     "output_type": "stream",
     "text": [
      "{'/Title': 'Pride and Prejudice, by Jane Austen', '/Author': 'Chuck', '/Creator': 'Microsoft® Office Word 2007', '/CreationDate': 'D:20110812174208', '/ModDate': 'D:20110812174208', '/Producer': 'Microsoft® Office Word 2007'}\n",
      "234 were extracted from 'Pride_and_Prejudice.pdf' and put into 'Pride_and_Prejudice_Extract.txt'.\n"
     ]
    }
   ],
   "source": [
    "# Do the necessary lib import and create a <PdfFileReader> object\n",
    "import PyPDF2\n",
    "pdf = PyPDF2.PdfFileReader(str(pdf_source_path))  # remember that pathlib objects must be passed as strings!\n",
    "\n",
    "print(pdf.documentInfo)\n",
    "\n",
    "# Every <PdfFileReader> comes with a method called '.pages' which is similar to '.items()' for dictionaries\n",
    "# Let's make use of that while we have our result file opened\n",
    "\n",
    "with txt_result_path.open(mode=\"w\", encoding=\"utf-8\") as txt:\n",
    "\n",
    "\tfor page in pdf.pages:\n",
    "\t\tpage_content = page.extractText()\n",
    "\t\ttxt.write(page_content)\n",
    "\n",
    "\t# IMPORTANT TO KNOW HERE:\n",
    "\t# The PyPDF2 module does NOT require a pdf file to be closed explicitly\n",
    "\t# It handles the closure of a pdf file all by itself :)\n",
    "\t# That's why we can simply include pdf-operations within our txt-handling-section.\n",
    "\n",
    "\tprint(f\"{pdf.getNumPages()} were extracted from '{pdf_source_path.name}' and put into '{txt_result_path.name}'.\")\n",
    "\n"
   ],
   "metadata": {
    "collapsed": false,
    "pycharm": {
     "name": "#%%\n"
    }
   }
  }
 ],
 "metadata": {
  "kernelspec": {
   "display_name": "Python 3",
   "language": "python",
   "name": "python3"
  },
  "language_info": {
   "codemirror_mode": {
    "name": "ipython",
    "version": 2
   },
   "file_extension": ".py",
   "mimetype": "text/x-python",
   "name": "python",
   "nbconvert_exporter": "python",
   "pygments_lexer": "ipython2",
   "version": "2.7.6"
  }
 },
 "nbformat": 4,
 "nbformat_minor": 0
}