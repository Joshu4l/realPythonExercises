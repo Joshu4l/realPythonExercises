{
 "cells": [
  {
   "cell_type": "code",
   "execution_count": 3,
   "metadata": {
    "collapsed": true,
    "pycharm": {
     "name": "#%% Simulation of a coin toss experiment\n"
    }
   },
   "outputs": [
    {
     "name": "stdout",
     "output_type": "stream",
     "text": [
      "\n",
      "We had to do a an amount of 29820 tosses by a total of 10_000 experiments that were started.\n",
      "Means: [frontside >= 1 =< backside] x 10_000\n",
      "This results in an average of 2.98 tosses per experiment to achieve the condition.\n"
     ]
    }
   ],
   "source": [
    "# Get the randint() function from python's random library\n",
    "from random import randint\n",
    "\n",
    "def coin_toss():\n",
    "    \"\"\"Takes in a range - in this case 0 and 1 - and returns a random integer from in between it\"\"\"\n",
    "    if randint(0,1) == 0:\n",
    "        return \"frontside\"\n",
    "    else:\n",
    "        return \"backside\"\n"
   ]
  },
  {
   "cell_type": "code",
   "execution_count": 6,
   "outputs": [],
   "source": [
    "# Set a number for the repetitions of the experiment and initialize a toss-counter\n",
    "sample_size = 10_000\n",
    "tosses = 0\n",
    "\n",
    "\n",
    "# Set up a loop on a range of trials\n",
    "for experiment in range(sample_size):\n",
    "\n",
    "    if coin_toss() == \"frontside\":  # Scenario 0: 'first toss comes out as FRONTSIDE'\n",
    "\n",
    "        # +1 the number of tosses in any case\n",
    "        tosses = tosses + 1\n",
    "\n",
    "        # As long as we keep getting \"frontside\"...\n",
    "        while coin_toss() == \"frontside\":\n",
    "            # ..keep adding +1.\n",
    "            tosses = tosses + 1\n",
    "\n",
    "        # Once we don't get \"frontside\" anymore, the while loop is done and stops\n",
    "\n",
    "        # BUT we finally need to track that one last flip that said \"BACKSIDE\" and\n",
    "        # caused the while loop to stop.\n",
    "        tosses = tosses + 1\n",
    "\n",
    "\n",
    "# VICE VERSA:\n",
    "\n",
    "    else:  # Scenario 1: 'first toss comes out as BACKSIDE'\n",
    "\n",
    "        # +1 the number of tosses in any case\n",
    "        tosses = tosses + 1\n",
    "\n",
    "        # As long as we keep getting \"backside\"...\n",
    "        while coin_toss() == \"backside\":\n",
    "            # ..keep adding +1.\n",
    "            tosses = tosses + 1\n",
    "\n",
    "        # Once we don't get \"backside\" anymore, the while loop is done and stops\n",
    "\n",
    "        # BUT we finally need to track that one last flip that said \"FRONTSIDE\" and\n",
    "        # caused the while loop to stop.\n",
    "        tosses = tosses + 1\n",
    "\n",
    "\n",
    "# Calculate the AVERAGE of tosses per experiment by doing (total of tosses / total of experiments)\n",
    "avg_tosses = tosses/sample_size\n"
   ],
   "metadata": {
    "collapsed": false,
    "pycharm": {
     "name": "#%%\n"
    }
   }
  },
  {
   "cell_type": "code",
   "execution_count": 5,
   "outputs": [
    {
     "name": "stdout",
     "output_type": "stream",
     "text": [
      "\n",
      "We had to do a an amount of 29820 tosses by a total of 10_000 experiments that were started.\n",
      "Means: [frontside >= 1 =< backside] x 10_000\n",
      "This results in an average of 2.98 tosses per experiment to achieve the condition.\n"
     ]
    }
   ],
   "source": [
    "# Show the results\n",
    "print(f\"\"\"\n",
    "We had to do a an amount of {tosses} tosses by a total of {sample_size:_} experiments that were started.\n",
    "Means: [frontside >= 1 =< backside] x {sample_size:_}\n",
    "This results in an average of {avg_tosses:.2f} tosses per experiment to achieve the condition.\"\"\")\n",
    "\n"
   ],
   "metadata": {
    "collapsed": false,
    "pycharm": {
     "name": "#%%\n"
    }
   }
  }
 ],
 "metadata": {
  "kernelspec": {
   "name": "pycharm-a215cbb4",
   "language": "python",
   "display_name": "PyCharm (pythonProject_realPythonExercises)"
  },
  "language_info": {
   "codemirror_mode": {
    "name": "ipython",
    "version": 2
   },
   "file_extension": ".py",
   "mimetype": "text/x-python",
   "name": "python",
   "nbconvert_exporter": "python",
   "pygments_lexer": "ipython2",
   "version": "2.7.6"
  }
 },
 "nbformat": 4,
 "nbformat_minor": 0
}