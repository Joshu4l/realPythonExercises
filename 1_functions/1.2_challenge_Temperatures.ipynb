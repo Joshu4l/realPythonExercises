{
 "cells": [
  {
   "cell_type": "code",
   "execution_count": 8,
   "outputs": [
    {
     "name": "stdout",
     "output_type": "stream",
     "text": [
      " 20.00 degrees Celsius equals        68.00 degrees Fahrenheit.\n",
      " 26.00 degrees Fahrenheit equals -10.80 degrees Celsius.\n"
     ]
    }
   ],
   "source": [
    "# Take a Celsius number as our Input\n",
    "celsiusInput = float(input(\"Enter a temperature in degrees Celsius: \"))\n",
    "\n",
    "# Now also take a Fahrenheit number as our Input\n",
    "fahrenheitInput = float(input(\"Enter a temperature in degrees Fahrenheit: \"))\n",
    "\n",
    "\n",
    "def cel_to_far(c):\n",
    "    \"\"\"converts a degrees-Celsius-value into a degrees-Fahrenheit-value\"\"\"\n",
    "    f = c * 9/5 + 32\n",
    "    return round(f,2)\n",
    "\n",
    "# Give me the content of my Celsius-to-Fahrenheit-conversion\n",
    "fahrenheitOutput = cel_to_far(celsiusInput)\n",
    "\n",
    "\n",
    "def far_to_cel(f):\n",
    "    \"\"\"converts a degrees-Fahrenheit-value into a degrees-Celsius-value\"\"\"\n",
    "    c = (f - 32) * 9/5\n",
    "    return round(c,2)\n",
    "\n",
    "#Give me the content of my Fahrenheit-to-Celsius-conversion\n",
    "celsiusOutput = far_to_cel(fahrenheitInput)\n",
    "\n",
    "\n",
    "print(f\"{celsiusInput: .2f} degrees Celsius equals       {fahrenheitOutput: .2f} degrees Fahrenheit.\")\n",
    "print(f\"{fahrenheitInput: .2f} degrees Fahrenheit equals {celsiusOutput: .2f} degrees Celsius.\")\n"
   ],
   "metadata": {
    "collapsed": false,
    "pycharm": {
     "name": "#%%\n"
    }
   }
  }
 ],
 "metadata": {
  "kernelspec": {
   "display_name": "Python 3",
   "language": "python",
   "name": "python3"
  },
  "language_info": {
   "codemirror_mode": {
    "name": "ipython",
    "version": 2
   },
   "file_extension": ".py",
   "mimetype": "text/x-python",
   "name": "python",
   "nbconvert_exporter": "python",
   "pygments_lexer": "ipython2",
   "version": "2.7.6"
  }
 },
 "nbformat": 4,
 "nbformat_minor": 0
}