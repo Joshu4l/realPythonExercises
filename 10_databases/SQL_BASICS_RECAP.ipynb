{
 "cells": [
  {
   "cell_type": "raw",
   "metadata": {
    "collapsed": true,
    "pycharm": {
     "name": "#%% raw\n"
    }
   },
   "source": [
    "UPFRONT: How are relations even structured within a database?\n",
    "\n",
    "- Each table has its an identifier-column for its very own datasets/rows\n",
    "\n",
    "- When there is a relationship between one or more tables it is depictioned via so called 'foreign keys'.\n",
    "  (A foreign key is simply one table's primary key being placed in an attribute column of another table)\n",
    "\n",
    "  Those may be allocated in the respective tables according to the following rules of relationship transformations:\n",
    "\n",
    "        1:1  ->  which of the both receives the foreign key does NOT matter! can be chosen freely.\n",
    "        1:n  ->  the n-side table receives the  foreign key\n",
    "        n:m  ->  both, the n-side's primary key as well as the m-side's primary key get OUTSOURCED into a dedicated relationship table"
   ]
  },
  {
   "cell_type": "raw",
   "source": [
    "# SQL provides us with three different aspects in terms of data handling:\n",
    "\n",
    "    # 1. DDL \"data definition language\"     e.g.: defining the structure of our DB\n",
    "\n",
    "    # 2. DML \"data manipulation language\"   e.g.: retrieving data from the DB or writing/deleting data to/from the DB\n",
    "\n",
    "    # 3. DCL \"data control language\"        e.g.: creating user accounts, managing DBMS access rights\n",
    "\n"
   ],
   "metadata": {
    "collapsed": false,
    "pycharm": {
     "name": "#%% raw\n"
    }
   }
  },
  {
   "cell_type": "code",
   "source": [
    "# Examples for DDL expressions: \"CREATE\", \"ALTER\", \"DROP\"\n",
    "\n",
    "# e.g.:\n",
    "create_query = \"\"\"CREATE TABLE customer(\n",
    "    customer_ID         INTEGER  PRIMARY KEY NULL,\n",
    "    customer_lastName   CHAR(20) NOT NULL,\n",
    "    customer_firstName  CHAR(20) NOT NULL\n",
    "    );\"\"\"\n",
    "\n",
    "# e.g.:\n",
    "alter_query = \"\"\"ALTER TABLE customer\n",
    "                 ADD customer_age INTEGER(100);\"\"\"\n",
    "\n",
    "# e.g.:\n",
    "drop_query = \"\"\"DROP TABLE customer;\"\"\"\n",
    "\n"
   ],
   "metadata": {
    "collapsed": false,
    "pycharm": {
     "name": "#%%\n"
    }
   },
   "execution_count": 1,
   "outputs": []
  },
  {
   "cell_type": "code",
   "execution_count": 1,
   "outputs": [],
   "source": [
    "# Examples for DML expressions: \"INSERT INTO\", \"UPDATE\", \"DELETE FROM\"\n",
    "\n",
    "# e.g.:\n",
    "insert_query = \"\"\"INSERT INTO customer(\n",
    "    customer_ID,\n",
    "    customer_lastName,\n",
    "    customer_firstName)\n",
    "    VALUES('?', '?', '?');\"\"\"  # parameterized\n",
    "\n",
    "# e.g.:\n",
    "update_query = \"\"\"UPDATE customer\n",
    "    SET customer_lastName = 'Albert'\n",
    "    WHERE customer_ID = 1;\"\"\"\n",
    "    # what would also be possible:\n",
    "    # SET Price = Price *1,5\n",
    "\n",
    "\n",
    "# e.g. with different operators:\n",
    "select_query = \"\"\"SELECT article.ArticleName, article.ArticleCategory, article.RetailPrice\n",
    "                  FROM article\n",
    "                  WHERE articleID = 758;\"\"\"\n",
    "                  # further possible operators would be:\n",
    "                                # <>    'not equal'\n",
    "                                # >     'greater than'\n",
    "                                # <     'less than'\n",
    "                                # AND\n",
    "                                # OR\n",
    "                                # IN        e.g. \"WHERE ArticleCategory IN ('Boat', 'Gear', 'Glue')\"\n",
    "                                # NOT       e.g. \"WHERE ArticleCategory NOT IN ('Boat', 'Gear', 'Glue')\"\n",
    "                                # BETWEEN   e.g. \"WHERE RetailPrice BETWEEN 15 AND 30\"\n",
    "                                # LIKE      e.g. \"WHERE ZipCode LIKE '9____' \"\n",
    "                                # LIKE'%'   e.g. \"WHERE LastName LIKE 'A%' \"\n",
    "\n",
    "# e.g. with aggregation (GROUP BY):\n",
    "select_query = \"\"\"SELECT article.ArticleCategory,\n",
    "                         Max(article.PurchasePrice)  AS MaxPurchasePrice,\n",
    "                         Avg(RetailPrice)  AS AvgRetailPrice,\n",
    "                         Sum(Stock)  AS SumStock\n",
    "                  FROM article\n",
    "                  GROUP BY ArticleCategory;\"\"\"\n",
    "                  # in order to filter for a single item out of the result above, we'll need a 'HAVING' clause (see next example)\n",
    "\n",
    "\n",
    "# e.g. with aggregation (GROUP BY) and a filter (HAVING):\n",
    "select_query = \"\"\"SELECT article.ArticleCategory,\n",
    "                         Max(article.PurchasePrice)  AS MaxPurchasePrice,\n",
    "                         Avg(RetailPrice)  AS AvgRetailPrice,\n",
    "                         Sum(Stock)  AS SumStock\n",
    "                  FROM article\n",
    "                  GROUP BY ArticleCategory\n",
    "                  HAVING ArticleCategory = 'Boat' OR ArticleCategory = 'Gear';\"\"\" # here we're provided with a possibility to filter the result again individually\n",
    "\n",
    "\n",
    "# e.g. with sorting (ORDER BY) and  joining tables (INNER JOIN):\n",
    "select_query = \"\"\"SELECT customer.LastName, customer.FirstName, sales.Date\n",
    "                  FROM customer\n",
    "                  INNER JOIN sales\n",
    "                  ON customer.CustID  =  sales.CustomerID\n",
    "                  ORDER BY customer.LastName ASC;\"\"\"\n",
    "\n",
    "\n",
    "# e.g. for all -> with aggregation (GROUP BY), sorting (ORDER BY) and  joining tables (INNER JOIN):\n",
    "select_query = \"\"\"SELECT customer.LastName, customer.FirstName, sales.Date\n",
    "                  FROM customer\n",
    "                  INNER JOIN sales\n",
    "                  ON customer.CustID  =  sales.CustomerID\n",
    "                  GROUP BY customer.LastName\n",
    "                  ORDER BY customer.LastName ASC;\"\"\"\n",
    "\n"
   ],
   "metadata": {
    "collapsed": false,
    "pycharm": {
     "name": "#%%\n"
    }
   }
  }
 ],
 "metadata": {
  "kernelspec": {
   "display_name": "Python 3",
   "language": "python",
   "name": "python3"
  },
  "language_info": {
   "codemirror_mode": {
    "name": "ipython",
    "version": 2
   },
   "file_extension": ".py",
   "mimetype": "text/x-python",
   "name": "python",
   "nbconvert_exporter": "python",
   "pygments_lexer": "ipython2",
   "version": "2.7.6"
  }
 },
 "nbformat": 4,
 "nbformat_minor": 0
}