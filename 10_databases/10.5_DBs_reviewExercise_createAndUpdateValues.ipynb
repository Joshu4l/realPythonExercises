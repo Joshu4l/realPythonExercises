{
 "cells": [
  {
   "cell_type": "raw",
   "metadata": {
    "collapsed": true,
    "pycharm": {
     "name": "#%% raw\n"
    }
   },
   "source": [
    "# REVIEW EXERCISE\n",
    "\n",
    "\n",
    "1. Create a new database with a table named 'Roster' that has three fields:\n",
    "   'Name', 'Species', and 'Age'.\n",
    "   The 'Name' and 'Species' columns should be text fields and the 'Age' column should be an integer field.\n"
   ]
  },
  {
   "cell_type": "code",
   "execution_count": 50,
   "outputs": [],
   "source": [
    "# Do the necessary imports\n",
    "import sqlite3\n",
    "\n",
    "# Make Sure to cleanse away the table if we already filled one before\n",
    "sql_drop = \"\"\"\n",
    "\tDROP TABLE IF EXISTS Roster;\"\"\"\n",
    "\n",
    "# Prepare a SQL statement to create the table\n",
    "sql_table = \"\"\"\n",
    "    CREATE TABLE IF NOT EXISTS Roster(\n",
    "        Name TEXT,\n",
    "        Species TEXT,\n",
    "        Age INTEGER\n",
    "    );\"\"\"\n",
    "\n",
    "# Establish a database connection object (this is attempt no. 1, hence _v1)\n",
    "with sqlite3.connect(\"rosterDB.db\") as db_v1:\n",
    "    db_cursor = db_v1.cursor()  # set up a cursor object\n",
    "    db_cursor.execute(sql_drop)  # make sure to throw away any inputs/inserts that were done so far\n",
    "    db_cursor.execute(sql_table)  # actually execute the query to create the specified table\n"
   ],
   "metadata": {
    "collapsed": false,
    "pycharm": {
     "name": "#%%\n"
    }
   }
  },
  {
   "cell_type": "raw",
   "source": [
    "2. Populate your new table with the following values:\n",
    "   | Name            | Species     | Age        |\n",
    "   | Benjamin Sisko  | Human       |  40        |\n",
    "   | Jadzia Dax      | Trill       | 300        |\n",
    "   | Kira Nerys      | Bajoran     |  29        |"
   ],
   "metadata": {
    "collapsed": false,
    "pycharm": {
     "name": "#%% raw\n"
    }
   }
  },
  {
   "cell_type": "code",
   "execution_count": 51,
   "outputs": [
    {
     "name": "stdout",
     "output_type": "stream",
     "text": [
      "('Benjamin Sisko', 'Human', 40)\n",
      "('Jadzia Dax', 'Trill', 300)\n",
      "('Kira Nerys', 'Bajoran', 29)\n"
     ]
    }
   ],
   "source": [
    "# Create the data to be filled in via TUPLES!\n",
    "my_values = (\n",
    "\t('Benjamin Sisko', 'Human', 40),\n",
    "\t('Jadzia Dax', 'Trill', 300),\n",
    "\t('Kira Nerys', 'Bajoran', 29)\n",
    ")\n",
    "\n",
    "# Set up a SQL INSERT-query\n",
    "sql_insert = \"\"\"\n",
    "    INSERT OR IGNORE INTO Roster\n",
    "    VALUES(?, ?, ?)\n",
    "    ;\"\"\"\n",
    "\n",
    "# Set up a SQL SELECT query in order to be able to retrieve data\n",
    "sql_select = \"\"\"\n",
    "    SELECT * FROM Roster;\n",
    "    \"\"\"\n",
    "\n",
    "# Establish a database connection object (this is attempt no. 2, hence _v2)\n",
    "with sqlite3.connect('rosterDB.db') as db_v2:\n",
    "\n",
    "\tdb_cursor = db_v2.cursor()  # set up a cursor object\n",
    "\tdb_cursor.executemany(sql_insert, my_values)  # Actually execute the INSERT-statement\n",
    "\n",
    "\tresult = db_cursor.execute(sql_select)  # print each row of our results\n",
    "\tfor i in result:\n",
    "\t\tprint(i)"
   ],
   "metadata": {
    "collapsed": false,
    "pycharm": {
     "name": "#%%\n"
    }
   }
  },
  {
   "cell_type": "raw",
   "source": [
    "3. Update the name of Jadzia Dax to be 'Ezri Dax'."
   ],
   "metadata": {
    "collapsed": false,
    "pycharm": {
     "name": "#%% raw\n"
    }
   }
  },
  {
   "cell_type": "code",
   "source": [
    "# Set up the new values to be inserted via an UPDATE-statement\n",
    "substitute_values = ('Ezri Dax')\n",
    "\n",
    "# Prepare a SQL statement for UPDATING values using 'UPDATE' 'SET' and 'WHERE' specifications\n",
    "sql_update = \"\"\"\n",
    "\tUPDATE Roster\n",
    "\tSET Name = ? \n",
    "\tWHERE Name = 'Jadzia Dax' and Species = 'Trill' and Age = 300;\n",
    "\t\"\"\"\n",
    "\n",
    "# Establish a database connection object (this is attempt no. 3, hence _v3)\n",
    "with sqlite3.connect('rosterDB.db') as db_v3:\n",
    "\n",
    "\tdb_cursor = db_v3.cursor()  # set up a cursor object\n",
    "\tdb_cursor.executemany(sql_update, substitute_values)  # Actually execute the UPDATE-statement\n",
    "\n"
   ],
   "metadata": {
    "collapsed": false,
    "pycharm": {
     "name": "#%%\n"
    }
   },
   "execution_count": 52,
   "outputs": []
  },
  {
   "cell_type": "raw",
   "source": [
    "4. Display the Name and Age of everyone in the table classified as Bajoran"
   ],
   "metadata": {
    "collapsed": false,
    "pycharm": {
     "name": "#%% raw\n"
    }
   }
  },
  {
   "cell_type": "code",
   "execution_count": 58,
   "outputs": [
    {
     "name": "stdout",
     "output_type": "stream",
     "text": [
      "('Kira Nerys', 29)\n"
     ]
    }
   ],
   "source": [
    "# Define a search term\n",
    "search_term = ('Bajoran')\n",
    "\n",
    "# Prepare a SQL statement for SELECTING 'Name' and 'Age' of everyone who is matching the criterion 'Species' = 'Bajoran'\n",
    "sql_select = \"\"\"\n",
    "\tSELECT  Name, Age\n",
    "\tFROM Roster\n",
    "\tWHERE Species = ?;\n",
    "\t\"\"\"\n",
    "\n",
    "# Establish a database connection object (this is attempt no. 4, hence _v4)\n",
    "with sqlite3.connect('rosterDB.db') as db_v4:\n",
    "\n",
    "\tdb_cursor = db_v4.cursor()  # set up a cursor object\n",
    "\tresult = db_cursor.execute(sql_select, (search_term,))  # Actually execute the SELECT-statement\n",
    "\n",
    "\t\t# ATTENTION HERE:\n",
    "\t\t# The '(search_term,)' must be passed in here with a ',)' to simulate to SQLite that we're passing in multiple tuples\n",
    "\t\t# God knows why it does not accept a single one...\n",
    "\n",
    "\tfor i in result:\n",
    "\t\tprint(i)"
   ],
   "metadata": {
    "collapsed": false,
    "pycharm": {
     "name": "#%%\n"
    }
   }
  }
 ],
 "metadata": {
  "kernelspec": {
   "display_name": "Python 3",
   "language": "python",
   "name": "python3"
  },
  "language_info": {
   "codemirror_mode": {
    "name": "ipython",
    "version": 2
   },
   "file_extension": ".py",
   "mimetype": "text/x-python",
   "name": "python",
   "nbconvert_exporter": "python",
   "pygments_lexer": "ipython2",
   "version": "2.7.6"
  }
 },
 "nbformat": 4,
 "nbformat_minor": 0
}