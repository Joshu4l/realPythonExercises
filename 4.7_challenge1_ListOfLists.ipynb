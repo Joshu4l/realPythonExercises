{
 "cells": [
  {
   "cell_type": "raw",
   "source": [
    "CHALLENGE: LIST OF LISTS\n",
    "\n",
    "\"Write a program that contains the following list of lists:\n",
    "\n",
    "universities = [\n",
    "    ['California Institute of Technology', 2175, 37704],\n",
    "    ['Harvard', 19627, 39849],\n",
    "    ['Massachusetts Institute of Technology', 10566, 40732],\n",
    "    ['Princeton', 7802, 37000],\n",
    "    ['Rice', 5879, 35551],\n",
    "    ['Stanford', 19535, 40569],\n",
    "    ['Yale', 11701, 40500]\n",
    "]\n",
    "\n",
    "Define a function 'enrollment_stats()' with a single parameter.\n",
    "This parameter should be a list of lists in which each individual list contains\n",
    "trhee elements:\n",
    "\n",
    "    1. The name of the university\n",
    "    2. The total number of enrolled students\n",
    "    3. The annual tuition fees\n",
    "\n",
    "'enrollment_stats()' should return two lists, the first containing all the\n",
    "student enrollment values and the second containing all the tuition fees.\n",
    "\n",
    "Next, define two functions 'mean()' and 'median()', that take a single list\n",
    "argument and return the mean or median of the values in each list respectively.\n",
    "\n",
    "Using 'universities', 'enrollment_stats()', 'mean()' and 'median()', calculate\n",
    "the total number of students, the total tuition, the mean and median number of\n",
    "students and the mean and median tuition values.\n",
    "\n",
    "Finally, output all values and format the output so that it looks like this:\n",
    "\n",
    "****************************\n",
    "Total students:    77,285\n",
    "Student mean:      11,040.71\n",
    "Student median:    10,566\n",
    "\n",
    "Total tuition:  $ 271,905\n",
    "Tuition mean:    $ 38,843.57\n",
    "Tuition median:  $ 39,849\n",
    "*****************************\n",
    "\n"
   ],
   "metadata": {
    "collapsed": false
   }
  },
  {
   "cell_type": "code",
   "execution_count": 4,
   "outputs": [],
   "source": [
    "# Set up the initial list\n",
    "universities = [\n",
    "    ['California Institute of Technology', 2175, 37704],\n",
    "    ['Harvard', 19627, 39849],\n",
    "    ['Massachusetts Institute of Technology', 10566, 40732],\n",
    "    ['Princeton', 7802, 37000],\n",
    "    ['Rice', 5879, 35551],\n",
    "    ['Stanford', 19535, 40569],\n",
    "    ['Yale', 11701, 40500]\n",
    "]\n"
   ],
   "metadata": {
    "collapsed": false,
    "pycharm": {
     "name": "#%%\n"
    }
   }
  },
  {
   "cell_type": "code",
   "execution_count": 3,
   "outputs": [],
   "source": [
    "import statistics\n",
    "\n",
    "\n",
    "# Define the 'enrollment_stats' function and call it\n",
    "def enrollment_stats(universities):\n",
    "    \"\"\"takes in a general uni list and returns several stats about enrollments and tuitions as list elements\"\"\"\n",
    "\n",
    "    # let's have a list of enrolled students\n",
    "    enrolled = []\n",
    "\n",
    "    for uni in universities:\n",
    "\n",
    "        enrolled.append(uni[1])\n",
    "\n",
    "    total_enrolled = sum(enrolled)\n",
    "    mean_enrolled = statistics.mean(enrolled)\n",
    "    median_enrolled = statistics.median(enrolled)\n",
    "\n",
    "\n",
    "\n",
    "    # now let's have a tuitions list and its mean\n",
    "    tuitions = []\n",
    "\n",
    "    for uni in universities:\n",
    "\n",
    "        tuitions.append(uni[2])\n",
    "\n",
    "    mean_tuitions = statistics.mean(tuitions)\n",
    "    median_tuitions = statistics.median(tuitions)\n",
    "\n",
    "\n",
    "    return [total_enrolled, mean_enrolled, median_enrolled, mean_tuitions, median_tuitions] # see? we're putting two return values into a LIST\n",
    "\n"
   ],
   "metadata": {
    "collapsed": false,
    "pycharm": {
     "name": "#%%\n"
    }
   }
  },
  {
   "cell_type": "code",
   "execution_count": 2,
   "outputs": [
    {
     "ename": "NameError",
     "evalue": "name 'enrollment_stats' is not defined",
     "output_type": "error",
     "traceback": [
      "\u001B[1;31m---------------------------------------------------------------------------\u001B[0m",
      "\u001B[1;31mNameError\u001B[0m                                 Traceback (most recent call last)",
      "\u001B[1;32mC:\\Users\\JOSHUA~1\\AppData\\Local\\Temp/ipykernel_11712/2933602635.py\u001B[0m in \u001B[0;36m<module>\u001B[1;34m\u001B[0m\n\u001B[1;32m----> 1\u001B[1;33m print(f\"\"\"*********************************************\n\u001B[0m\u001B[0;32m      2\u001B[0m \u001B[1;33m\u001B[0m\u001B[0m\n\u001B[0;32m      3\u001B[0m \u001B[0mTotal\u001B[0m \u001B[0mstudents\u001B[0m\u001B[1;33m:\u001B[0m         \u001B[1;33m{\u001B[0m\u001B[0menrollment_stats\u001B[0m\u001B[1;33m(\u001B[0m\u001B[0muniversities\u001B[0m\u001B[1;33m)\u001B[0m\u001B[1;33m[\u001B[0m\u001B[1;36m0\u001B[0m\u001B[1;33m]\u001B[0m\u001B[1;33m:\u001B[0m\u001B[1;33m,\u001B[0m\u001B[1;36m.2\u001B[0m\u001B[0mf\u001B[0m\u001B[1;33m}\u001B[0m\u001B[1;33m\u001B[0m\u001B[1;33m\u001B[0m\u001B[0m\n\u001B[0;32m      4\u001B[0m \u001B[1;33m\u001B[0m\u001B[0m\n\u001B[0;32m      5\u001B[0m \u001B[0mMean\u001B[0m \u001B[0mof\u001B[0m \u001B[0menrolled\u001B[0m\u001B[1;33m:\u001B[0m\u001B[0;31m \u001B[0m\u001B[0;31m \u001B[0m\u001B[0;31m \u001B[0m\u001B[0;31m \u001B[0m\u001B[0;31m \u001B[0m\u001B[0;31m$\u001B[0m \u001B[1;33m{\u001B[0m\u001B[0menrollment_stats\u001B[0m\u001B[1;33m(\u001B[0m\u001B[0muniversities\u001B[0m\u001B[1;33m)\u001B[0m\u001B[1;33m[\u001B[0m\u001B[1;36m1\u001B[0m\u001B[1;33m]\u001B[0m\u001B[1;33m:\u001B[0m\u001B[1;33m,\u001B[0m\u001B[1;36m.2\u001B[0m\u001B[0mf\u001B[0m\u001B[1;33m}\u001B[0m\u001B[1;33m\u001B[0m\u001B[1;33m\u001B[0m\u001B[0m\n",
      "\u001B[1;31mNameError\u001B[0m: name 'enrollment_stats' is not defined"
     ]
    }
   ],
   "source": [
    "print(f\"\"\"*********************************************\n",
    "\n",
    "Total students:         {enrollment_stats(universities)[0]:,.2f}\n",
    "\n",
    "Mean of enrolled:     $ {enrollment_stats(universities)[1]:,.2f}\n",
    "Median of enrolled:   $ {enrollment_stats(universities)[2]:,.2f}\n",
    "\n",
    "Mean of tuitions:     $ {enrollment_stats(universities)[3]:,.2f}\n",
    "Median of tuitions:   $ {enrollment_stats(universities)[4]:,.2f}\n",
    "\n",
    "*********************************************\"\"\")\n"
   ],
   "metadata": {
    "collapsed": false,
    "pycharm": {
     "name": "#%%\n"
    }
   }
  }
 ],
 "metadata": {
  "kernelspec": {
   "name": "pycharm-a215cbb4",
   "language": "python",
   "display_name": "PyCharm (pythonProject_realPythonExercises)"
  },
  "language_info": {
   "codemirror_mode": {
    "name": "ipython",
    "version": 2
   },
   "file_extension": ".py",
   "mimetype": "text/x-python",
   "name": "python",
   "nbconvert_exporter": "python",
   "pygments_lexer": "ipython2",
   "version": "2.7.6"
  }
 },
 "nbformat": 4,
 "nbformat_minor": 0
}