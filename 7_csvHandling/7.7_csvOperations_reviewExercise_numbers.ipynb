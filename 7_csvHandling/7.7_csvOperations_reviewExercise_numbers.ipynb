{
 "cells": [
  {
   "cell_type": "markdown",
   "source": [
    "1. Write a program that writes the following list of lists to a file called 'numbers.csv'\n",
    "   within your 'practice_files' directory:\n",
    "\n",
    "   numbers = [\n",
    "        [1,2,3,4,5],\n",
    "        [6,7,8,9,10],\n",
    "        [11,12,13,14,15]\n",
    "   ]"
   ],
   "metadata": {
    "collapsed": false
   }
  },
  {
   "cell_type": "code",
   "execution_count": 50,
   "outputs": [],
   "source": [
    "numbers = [\n",
    "    [1,2,3,4,5],\n",
    "    [6,7,8,9,10],\n",
    "    [11,12,13,14,15]\n",
    "]\n",
    "\n",
    "import pathlib\n",
    "import csv\n",
    "\n",
    "practice_dir = pathlib.Path.cwd() / \"practice_files\"\n",
    "practice_dir.mkdir(parents=True, exist_ok=True)\n",
    "\n",
    "filepath = practice_dir / \"numbers.csv\"\n",
    "filepath.touch(exist_ok=True)\n",
    "\n",
    "with filepath.open(mode=\"w\", encoding=\"utf-8\",newline=\"\") as file:\n",
    "    writer_object = csv.writer(file)\n",
    "\n",
    "    writer_object.writerows(numbers)\n"
   ],
   "metadata": {
    "collapsed": false,
    "pycharm": {
     "name": "#%%\n"
    }
   }
  },
  {
   "cell_type": "code",
   "execution_count": 51,
   "outputs": [
    {
     "name": "stdout",
     "output_type": "stream",
     "text": [
      "['1', '2', '3', '4', '5']\n",
      "['6', '7', '8', '9', '10']\n",
      "['11', '12', '13', '14', '15']\n"
     ]
    }
   ],
   "source": [
    "with filepath.open(mode=\"r\", encoding=\"utf-8\",newline=\"\") as file:\n",
    "    reader_object = csv.reader(file)\n",
    "\n",
    "    for row in reader_object:\n",
    "        print(row)"
   ],
   "metadata": {
    "collapsed": false,
    "pycharm": {
     "name": "#%%\n"
    }
   }
  },
  {
   "cell_type": "raw",
   "source": [
    "\n",
    "\n",
    "2. Write a program that reads the numbers in the numbers.csv file from exercise 1 into a list of lists of integers called 'exctracted_numbers'"
   ],
   "metadata": {
    "collapsed": false
   }
  },
  {
   "cell_type": "code",
   "execution_count": 52,
   "outputs": [
    {
     "name": "stdout",
     "output_type": "stream",
     "text": [
      "[[1, 2, 3, 4, 5], [6, 7, 8, 9, 10], [11, 12, 13, 14, 15]]\n"
     ]
    }
   ],
   "source": [
    "with filepath.open(mode=\"r\", encoding=\"utf-8\", newline=\"\") as file:\n",
    "\n",
    "    reader_object = csv.reader(file)\n",
    "    extracted_numbers = []\n",
    "\n",
    "    for sublist in reader_object:\n",
    "        numeric_sublist = [int(val) for val in sublist]\n",
    "        extracted_numbers.append(numeric_sublist)\n",
    "\n",
    "    print(extracted_numbers)\n"
   ],
   "metadata": {
    "collapsed": false,
    "pycharm": {
     "name": "#%%\n"
    }
   }
  },
  {
   "cell_type": "raw",
   "source": [
    "\n",
    "\n",
    "3. Write a program that writes the following list of dictionaries to a file called 'favorite_colors.csv'\n",
    "   within your 'practice_files' directory:\n",
    "\n",
    "   favorite_colors = [\n",
    "        {'name': 'Joe', 'favorite_color': 'blue'},\n",
    "        {'name': 'Anne', 'favorite_color': 'green'},\n",
    "        {'name': 'Bailey', 'favorite_color': 'red'}\n",
    "   ]"
   ],
   "metadata": {
    "collapsed": false
   }
  },
  {
   "cell_type": "code",
   "execution_count": 53,
   "outputs": [],
   "source": [
    "fp = practice_dir / \"favorite_colors.csv\"\n",
    "fp.touch(exist_ok=True)\n",
    "\n",
    "favorite_colors = [\n",
    "    {'name': 'Joe', 'favorite_color': 'blue'},\n",
    "    {'name': 'Anne', 'favorite_color': 'green'},\n",
    "    {'name': 'Bailey', 'favorite_color': 'red'}\n",
    "]\n",
    "\n",
    "with fp.open(mode=\"w\", encoding=\"utf-8\", newline=\"\") as file:\n",
    "\n",
    "    dict_keys = [key for key in favorite_colors[0].keys()]\n",
    "\n",
    "    dict_writer = csv.DictWriter(file, fieldnames=dict_keys)\n",
    "\n",
    "    # fill in the header data based on our dict keys\n",
    "    dict_writer.writeheader()\n",
    "    # fill in the actual values based on our dict values\n",
    "    dict_writer.writerows(favorite_colors)\n"
   ],
   "metadata": {
    "collapsed": false,
    "pycharm": {
     "name": "#%%\n"
    }
   }
  },
  {
   "cell_type": "raw",
   "source": [
    "\n",
    "\n",
    "4. Write a program that reads the data from the 'favorite_colors.csv' file from exercise 3 into a list of dictionaries called\n",
    "   'extracted_favorite_colors'.\n",
    "\n",
    "   Print the list of dictionaries. The output should look something like this:\n",
    "   [{'name': 'Joe', 'favorite_color': 'blue'},\n",
    "    {'name': 'Anne', 'favorite_color': 'green'},\n",
    "    {'name': 'Bailey', 'favorite_color': 'red'}]\n"
   ],
   "metadata": {
    "collapsed": false,
    "pycharm": {
     "name": "#%% raw\n"
    }
   }
  },
  {
   "cell_type": "code",
   "execution_count": 56,
   "outputs": [
    {
     "name": "stdout",
     "output_type": "stream",
     "text": [
      "[{'name': 'Joe', 'favorite_color': 'blue'}, {'name': 'Anne', 'favorite_color': 'green'}, {'name': 'Bailey', 'favorite_color': 'red'}]\n"
     ]
    }
   ],
   "source": [
    "with fp.open(mode=\"r\", encoding=\"utf-8\", newline=\"\") as file:\n",
    "\n",
    "    dict_reader = csv.DictReader(file)\n",
    "\n",
    "    extracted_favorite_colors = [dict for dict in dict_reader]\n",
    "\n",
    "    print(extracted_favorite_colors)"
   ],
   "metadata": {
    "collapsed": false,
    "pycharm": {
     "name": "#%%\n"
    }
   }
  }
 ],
 "metadata": {
  "kernelspec": {
   "display_name": "Python 3",
   "language": "python",
   "name": "python3"
  },
  "language_info": {
   "codemirror_mode": {
    "name": "ipython",
    "version": 2
   },
   "file_extension": ".py",
   "mimetype": "text/x-python",
   "name": "python",
   "nbconvert_exporter": "python",
   "pygments_lexer": "ipython2",
   "version": "2.7.6"
  }
 },
 "nbformat": 4,
 "nbformat_minor": 0
}