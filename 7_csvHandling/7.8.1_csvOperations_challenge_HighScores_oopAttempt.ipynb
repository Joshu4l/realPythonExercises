{
 "cells": [
  {
   "cell_type": "raw",
   "source": [
    "CHALLENGE: Prepare a file called 'scores.csv' within your 'practice_files' directory\n",
    "containing data about game players and their scores. The firs few lines of the file\n",
    "shall look like this:\n",
    "\n",
    "name, score\n",
    "LLCoolDave,23\n",
    "LLCoolDave,27\n",
    "red,12\n",
    "LLCoolDave,26\n",
    "tom123,26\n",
    "\n",
    "Write a program that reads the data from this CSV file and creates a new file called\n",
    "'high_scores.csv', in which each row contains the player's name and their highest score\n"
   ],
   "metadata": {
    "collapsed": false,
    "pycharm": {
     "name": "#%% raw\n"
    }
   }
  },
  {
   "cell_type": "code",
   "execution_count": 213,
   "outputs": [],
   "source": [
    "class Player:\n",
    "    players = []\n",
    "\n",
    "    def __init__(self, name, scores):\n",
    "        self.name = name\n",
    "        self.scores = [scores]\n",
    "        self.highest_score = max(self.scores)\n",
    "        Player.players.append(self)\n",
    "\n",
    "    @classmethod\n",
    "    def get_all_players(cls):\n",
    "        \"\"\"\"\"\"\n",
    "        result = [p for p in Player.players]\n",
    "        return result\n",
    "\n",
    "    @classmethod\n",
    "    def get_all_player_names(cls):\n",
    "        \"\"\"\"\"\"\n",
    "        name_result = [n.name for n in Player.players]\n",
    "        return name_result\n",
    "\n",
    "    @classmethod\n",
    "    def get_player_by_name(cls, search_term):\n",
    "        \"\"\"\"\"\"\n",
    "        return [p for p in Player.players if p.name == search_term]\n",
    "\n",
    "    @classmethod\n",
    "    def get_scores_by_name(cls, search_term):\n",
    "        \"\"\"\"\"\"\n",
    "        return [p.scores for p in Player.players if p.name == search_term]\n",
    "\n",
    "    def add_score(self,recent_score):\n",
    "        \"\"\"\"\"\"\n",
    "        self.scores.append(recent_score)\n",
    "\n",
    "    def __str__(self):\n",
    "        print(self.name, self.scores)\n",
    "\n"
   ],
   "metadata": {
    "collapsed": false,
    "pycharm": {
     "name": "#%%\n"
    }
   }
  },
  {
   "cell_type": "code",
   "execution_count": 214,
   "outputs": [
    {
     "name": "stdout",
     "output_type": "stream",
     "text": [
      "C:\\Users\\Joshua Albert\\PycharmProjects\\realPythonExercises\\7_csvHandling\\practice_files\\scores.csv\n",
      "\n",
      "All rows of source_data:\n",
      "{'name': 'LLCoolDave', 'score': '23'}\n",
      "{'name': 'LLCoolDave', 'score': '27'}\n",
      "{'name': 'red', 'score': '12'}\n",
      "{'name': 'LLCoolDave', 'score': '26'}\n",
      "{'name': 'tom123', 'score': '26'}\n"
     ]
    }
   ],
   "source": [
    "# CODE SECTION FOR ACCESSING THE SOURCE FILE\n",
    "import pathlib\n",
    "import csv\n",
    "\n",
    "practice_dir = pathlib.Path.cwd() / \"practice_files\"\n",
    "scores_path = practice_dir / \"scores.csv\"\n",
    "print(scores_path)\n",
    "\n",
    "with scores_path.open(mode=\"r\", encoding=\"utf-8\", newline=\"\") as source_file:\n",
    "\n",
    "    print(\"\\nAll rows of source_data:\")\n",
    "    source_data = csv.DictReader(source_file)\n",
    "    for row in source_data:\n",
    "        print(row)\n",
    "\n",
    "     # set back the imaginary cursor to the file's beginning\n",
    "    source_file.seek(0)\n",
    "    for entry in source_data:\n",
    "\n",
    "        # assign a <player_name> and a <player_score> for every entry\n",
    "        player_name = entry[source_data.fieldnames[0]]\n",
    "        player_score = entry[source_data.fieldnames[1]]\n",
    "\n",
    "        # Check if the assigned <player_name> is appearing among the player instances yet\n",
    "        if not player_name in Player.get_all_player_names():\n",
    "            # If not, instantiate one\n",
    "            Player(player_name, player_score)\n",
    "\n",
    "        # scenario: there is already an identically-named <Player> instance\n",
    "        else:\n",
    "            # use the <Player> class's method '.get_player_by_name'\n",
    "            responding_players = Player.get_player_by_name(player_name)\n",
    "\n",
    "            for r in responding_players:\n",
    "                Player.add_score(r,player_score)\n",
    "\n"
   ],
   "metadata": {
    "collapsed": false,
    "pycharm": {
     "name": "#%%\n"
    }
   }
  },
  {
   "cell_type": "code",
   "execution_count": 215,
   "outputs": [
    {
     "name": "stdout",
     "output_type": "stream",
     "text": [
      "name ['score'] score\n",
      "LLCoolDave ['23', '27', '26'] 23\n",
      "red ['12'] 12\n",
      "tom123 ['26'] 26\n"
     ]
    }
   ],
   "source": [
    "        # Now that we successfully used Class methods to collect and assign individual scores,\n",
    "        # show the attribute values for each instance we created\n",
    "        for i in Player.players:\n",
    "            print(i.name, i.scores, i.highest_score)\n",
    "\n"
   ],
   "metadata": {
    "collapsed": false,
    "pycharm": {
     "name": "#%%\n"
    }
   }
  },
  {
   "cell_type": "code",
   "execution_count": 216,
   "outputs": [],
   "source": [
    "practice_dir = pathlib.Path.cwd() / \"practice_files\"\n",
    "high_scores_path = practice_dir / \"high_scores.csv\"\n",
    "\n",
    "with high_scores_path.open(mode=\"w\", encoding=\"utf-8\", newline=\"\") as target_file:\n",
    "    target = csv.writer(target_file)\n",
    "\n"
   ],
   "metadata": {
    "collapsed": false,
    "pycharm": {
     "name": "#%%\n"
    }
   }
  }
 ],
 "metadata": {
  "kernelspec": {
   "display_name": "Python 3",
   "language": "python",
   "name": "python3"
  },
  "language_info": {
   "codemirror_mode": {
    "name": "ipython",
    "version": 2
   },
   "file_extension": ".py",
   "mimetype": "text/x-python",
   "name": "python",
   "nbconvert_exporter": "python",
   "pygments_lexer": "ipython2",
   "version": "2.7.6"
  }
 },
 "nbformat": 4,
 "nbformat_minor": 0
}