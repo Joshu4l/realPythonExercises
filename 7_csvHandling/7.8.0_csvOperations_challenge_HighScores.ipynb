{
 "cells": [
  {
   "cell_type": "raw",
   "source": [
    "CHALLENGE: Prepare a file called 'scores.csv' within your 'practice_files' directory\n",
    "containing data about game players and their scores. The firs few lines of the file\n",
    "shall look like this:\n",
    "\n",
    "name, score\n",
    "LLCoolDave,23\n",
    "LLCoolDave,27\n",
    "red,12\n",
    "LLCoolDave,26\n",
    "tom123,26\n",
    "\n",
    "Write a program that reads the data from this CSV file and creates a new file called\n",
    "'high_scores.csv', in which each row contains the player's name and their highest score\n"
   ],
   "metadata": {
    "collapsed": false,
    "pycharm": {
     "name": "#%% raw\n"
    }
   }
  },
  {
   "cell_type": "code",
   "execution_count": 238,
   "outputs": [
    {
     "name": "stdout",
     "output_type": "stream",
     "text": [
      "{\n",
      "    \"player1\": {\n",
      "        \"name\": \"LLCoolDave\",\n",
      "        \"score\": \"23\"\n",
      "    },\n",
      "    \"player2\": {\n",
      "        \"name\": \"LLCoolDave\",\n",
      "        \"score\": \"27\"\n",
      "    },\n",
      "    \"player3\": {\n",
      "        \"name\": \"red\",\n",
      "        \"score\": \"12\"\n",
      "    },\n",
      "    \"player4\": {\n",
      "        \"name\": \"LLCoolDave\",\n",
      "        \"score\": \"26\"\n",
      "    },\n",
      "    \"player5\": {\n",
      "        \"name\": \"tom123\",\n",
      "        \"score\": \"26\"\n",
      "    }\n",
      "}\n",
      "dict_keys(['name', 'score'])\n"
     ]
    }
   ],
   "source": [
    "import pathlib\n",
    "import csv\n",
    "import json\n",
    "\n",
    "practice_dir = pathlib.Path.cwd() / \"practice_files\"\n",
    "scores_path = practice_dir / \"scores.csv\"\n",
    "\n",
    "\n",
    "with scores_path.open(mode=\"r\", encoding=\"utf-8\", newline=\"\") as source_file:\n",
    "\n",
    "    source = csv.reader(source_file)\n",
    "    read_to_dict = {}\n",
    "\n",
    "\n",
    "\n",
    "    for index, value in enumerate(source):\n",
    "        if index == 0:\n",
    "            continue\n",
    "        else:\n",
    "            read_to_dict[f\"player{index}\"] = {\"name\": value[0], \"score\": value[1]}\n",
    "\n",
    "    print(json.dumps(read_to_dict,sort_keys=True, indent=4))\n",
    "\n",
    "    source_keys = read_to_dict[\"player1\"].keys()\n",
    "    print(source_keys)\n"
   ],
   "metadata": {
    "collapsed": false,
    "pycharm": {
     "name": "#%%\n"
    }
   }
  },
  {
   "cell_type": "code",
   "execution_count": 239,
   "outputs": [],
   "source": [
    "    all_occurring_names = []\n",
    "\n",
    "    # get all top-level keys and values from the dict we created earlier above\n",
    "    for val in read_to_dict.values():\n",
    "\n",
    "        # if a name is already in our list of occurring names, skip it\n",
    "        if val[\"name\"] in all_occurring_names:\n",
    "            continue\n",
    "        # otherwise, add it\n",
    "        else:\n",
    "            all_occurring_names.append(val[\"name\"])\n",
    "\n",
    "    distinct = [[n, []] for n in all_occurring_names]\n",
    "\n",
    "\n",
    "    # run over all the sub-dictionary-values extracted from our dict\n",
    "    for v in read_to_dict.values():\n",
    "\n",
    "        # now use our distinct name list to check against our inner json objects with a matching 'name'-key\n",
    "        for index, name in enumerate(distinct):\n",
    "\n",
    "            # if the name is found among the sub-dict's keys, the respective score shall be added to the corresponding (distinct) player's scores\n",
    "            if v[\"name\"] == name[0]:\n",
    "                distinct[index][1].append(v[\"score\"])\n",
    "            else:\n",
    "                continue\n",
    "\n",
    "\n",
    "    for player in distinct:\n",
    "        player[1] = max(player[1])\n",
    "\n"
   ],
   "metadata": {
    "collapsed": false,
    "pycharm": {
     "name": "#%%\n"
    }
   }
  },
  {
   "cell_type": "code",
   "execution_count": 240,
   "outputs": [],
   "source": [
    "target_path = practice_dir / \"high_scores.csv\"\n",
    "target_path.touch(exist_ok=True)\n",
    "\n",
    "with target_path.open(mode=\"w\", encoding=\"utf-8\", newline=\"\") as target_file:\n",
    "\n",
    "    target = csv.writer(target_file)\n",
    "    target.writerow(source_keys)\n",
    "    target.writerows(distinct)\n",
    "\n",
    "\n"
   ],
   "metadata": {
    "collapsed": false,
    "pycharm": {
     "name": "#%%\n"
    }
   }
  }
 ],
 "metadata": {
  "kernelspec": {
   "display_name": "Python 3",
   "language": "python",
   "name": "python3"
  },
  "language_info": {
   "codemirror_mode": {
    "name": "ipython",
    "version": 2
   },
   "file_extension": ".py",
   "mimetype": "text/x-python",
   "name": "python",
   "nbconvert_exporter": "python",
   "pygments_lexer": "ipython2",
   "version": "2.7.6"
  }
 },
 "nbformat": 4,
 "nbformat_minor": 0
}