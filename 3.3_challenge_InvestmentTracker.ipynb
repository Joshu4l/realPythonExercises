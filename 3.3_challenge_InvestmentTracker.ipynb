{
 "cells": [
  {
   "cell_type": "raw",
   "source": [
    "# Script for tracking the development of investments:\n"
   ],
   "metadata": {
    "collapsed": false,
    "pycharm": {
     "name": "#%% raw\n"
    }
   }
  },
  {
   "cell_type": "code",
   "execution_count": 5,
   "outputs": [
    {
     "name": "stdout",
     "output_type": "stream",
     "text": [
      "Your total return after being invested 01 years:  $ 5,750.00\n",
      "Your total return after being invested 02 years:  $ 6,612.50\n",
      "Your total return after being invested 03 years:  $ 7,604.37\n"
     ]
    }
   ],
   "source": [
    "# Create a variable for the initial capital of the investment\n",
    "principalAmount = float(input(\"Please put in your starting capital here: \"))\n",
    "\n",
    "# Create a variable for the applying annual rate on the investment\n",
    "annualRate = float(input(\"Please provide an annual rate: \")) / 100\n",
    "\n",
    "# Create a variable for the duration of the investment\n",
    "investmentDuration = int(input(\"Please provide a duration of your investment in years: \"))\n",
    "\n",
    "\n",
    "\n",
    "# Set up the function for the return-calculation\n",
    "def invest(amount, rate, years):\n",
    "    \"\"\"takes a starting capital, an annual rate and a duration and calculates the financial return\"\"\"\n",
    "    totalReturn = amount * (1 + rate) ** years\n",
    "    return totalReturn\n",
    "\n",
    "\n",
    "# Create a loop for returning the return for each year of being invested\n",
    "# Remember: A REPETITION INPUT always has TO BE PASSED WITHIN A RANGE to the loop that's going to be used\n",
    "for year in range(1, investmentDuration+1):\n",
    "    # Attention: the user's input for investmentDuration is used as the upper end of the range to loop over, ...\n",
    "    print(f\"Your total return after being invested {year:02d} years:  ${(invest(principalAmount, annualRate, year)): ,.2f}\")\n"
   ],
   "metadata": {
    "collapsed": false,
    "pycharm": {
     "name": "#%%\n"
    }
   }
  }
 ],
 "metadata": {
  "kernelspec": {
   "display_name": "Python 3",
   "language": "python",
   "name": "python3"
  },
  "language_info": {
   "codemirror_mode": {
    "name": "ipython",
    "version": 2
   },
   "file_extension": ".py",
   "mimetype": "text/x-python",
   "name": "python",
   "nbconvert_exporter": "python",
   "pygments_lexer": "ipython2",
   "version": "2.7.6"
  }
 },
 "nbformat": 4,
 "nbformat_minor": 0
}